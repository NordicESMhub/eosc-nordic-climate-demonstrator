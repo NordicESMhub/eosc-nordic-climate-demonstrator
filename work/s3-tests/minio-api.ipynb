{
 "cells": [
  {
   "cell_type": "code",
   "execution_count": 4,
   "id": "diverse-employer",
   "metadata": {},
   "outputs": [
    {
     "name": "stdout",
     "output_type": "stream",
     "text": [
      "\u001b[33mWARNING: The directory '/home/jovyan/.cache/pip' or its parent directory is not owned or is not writable by the current user. The cache has been disabled. Check the permissions and owner of that directory. If executing pip with sudo, you may want sudo's -H flag.\u001b[0m\n",
      "Collecting minio\n",
      "  Downloading minio-7.0.3-py3-none-any.whl (75 kB)\n",
      "\u001b[K     |████████████████████████████████| 75 kB 9.2 MB/s eta 0:00:01\n",
      "\u001b[?25hRequirement already satisfied: certifi in /opt/conda/lib/python3.8/site-packages (from minio) (2020.12.5)\n",
      "Requirement already satisfied: urllib3 in /opt/conda/lib/python3.8/site-packages (from minio) (1.26.4)\n",
      "Installing collected packages: minio\n",
      "Successfully installed minio-7.0.3\n"
     ]
    }
   ],
   "source": [
    "!pip install minio"
   ]
  },
  {
   "cell_type": "code",
   "execution_count": 2,
   "id": "answering-royal",
   "metadata": {},
   "outputs": [],
   "source": [
    "from minio import Minio"
   ]
  },
  {
   "cell_type": "code",
   "execution_count": 41,
   "id": "muslim-sphere",
   "metadata": {},
   "outputs": [],
   "source": [
    "client = Minio(\n",
    "        \"galaxy-minio.uiogeo-apps.sigma2.no\",\n",
    "        access_key=\"XXXXXXXXXXXX\",\n",
    "        secret_key=\"YYYYYYYYYYYY\",\n",
    ")"
   ]
  },
  {
   "cell_type": "code",
   "execution_count": 72,
   "id": "alien-recorder",
   "metadata": {},
   "outputs": [],
   "source": [
    "found = client.bucket_exists(\"rawdata\")"
   ]
  },
  {
   "cell_type": "code",
   "execution_count": 73,
   "id": "oriental-voice",
   "metadata": {},
   "outputs": [
    {
     "data": {
      "text/plain": [
       "True"
      ]
     },
     "execution_count": 73,
     "metadata": {},
     "output_type": "execute_result"
    }
   ],
   "source": [
    "found"
   ]
  },
  {
   "cell_type": "code",
   "execution_count": 70,
   "id": "incredible-offset",
   "metadata": {},
   "outputs": [
    {
     "data": {
      "text/plain": [
       "'{\"Version\":\"2012-10-17\",\"Statement\":[{\"Effect\":\"Allow\",\"Principal\":{\"AWS\":[\"*\"]},\"Action\":[\"s3:GetBucketLocation\",\"s3:ListBucket\"],\"Resource\":[\"arn:aws:s3:::obsdata\"]},{\"Effect\":\"Allow\",\"Principal\":{\"AWS\":[\"*\"]},\"Action\":[\"s3:GetObject\"],\"Resource\":[\"arn:aws:s3:::obsdata/*\"]}]}'"
      ]
     },
     "execution_count": 70,
     "metadata": {},
     "output_type": "execute_result"
    }
   ],
   "source": [
    "policy"
   ]
  },
  {
   "cell_type": "code",
   "execution_count": 56,
   "id": "experimental-appraisal",
   "metadata": {},
   "outputs": [],
   "source": [
    "# Example anonymous read-only bucket policy.\n",
    "policy = {\n",
    "    \"Version\": \"2012-10-17\",\n",
    "    \"Statement\": [\n",
    "        {\n",
    "            \"Effect\": \"Allow\",\n",
    "            \"Principal\": {\"AWS\": \"*\"},\n",
    "            \"Action\": [\"s3:GetBucketLocation\", \"s3:ListBucket\"],\n",
    "            \"Resource\": \"arn:aws:s3:::obsdata\",\n",
    "        },\n",
    "        {\n",
    "            \"Effect\": \"Allow\",\n",
    "            \"Principal\": {\"AWS\": \"*\"},\n",
    "            \"Action\": \"s3:GetObject\",\n",
    "            \"Resource\": \"arn:aws:s3:::obsdata/*\",\n",
    "        },\n",
    "    ],\n",
    "}"
   ]
  },
  {
   "cell_type": "code",
   "execution_count": 54,
   "id": "sealed-scope",
   "metadata": {},
   "outputs": [],
   "source": [
    "client.set_bucket_policy(\"obsdata\", json.dumps(policy))"
   ]
  },
  {
   "cell_type": "code",
   "execution_count": 57,
   "id": "elementary-construction",
   "metadata": {},
   "outputs": [],
   "source": [
    "client = Minio(\n",
    "        \"climate.uiogeo-apps.sigma2.no\",\n",
    "        access_key=\"KcvY55Jy3AfF\",\n",
    "        secret_key=\"BC9rjj5ELyg2\",\n",
    ")"
   ]
  },
  {
   "cell_type": "code",
   "execution_count": 58,
   "id": "significant-astrology",
   "metadata": {},
   "outputs": [],
   "source": [
    "# Example anonymous read-only bucket policy.\n",
    "policy = {\n",
    "    \"Version\": \"2012-10-17\",\n",
    "    \"Statement\": [\n",
    "        {\n",
    "            \"Effect\": \"Allow\",\n",
    "            \"Principal\": {\"AWS\": \"*\"},\n",
    "            \"Action\": [\"s3:GetBucketLocation\", \"s3:ListBucket\"],\n",
    "            \"Resource\": \"arn:aws:s3:::ESGF\",\n",
    "        },\n",
    "        {\n",
    "            \"Effect\": \"Allow\",\n",
    "            \"Principal\": {\"AWS\": \"*\"},\n",
    "            \"Action\": \"s3:GetObject\",\n",
    "            \"Resource\": \"arn:aws:s3:::ESGF/*\",\n",
    "        },\n",
    "    ],\n",
    "}"
   ]
  },
  {
   "cell_type": "code",
   "execution_count": 60,
   "id": "sized-sussex",
   "metadata": {},
   "outputs": [],
   "source": [
    "client.set_bucket_policy(\"ESGF\", json.dumps(policy))"
   ]
  },
  {
   "cell_type": "code",
   "execution_count": 61,
   "id": "fourth-blanket",
   "metadata": {},
   "outputs": [],
   "source": [
    "# Example anonymous read-only bucket policy.\n",
    "policy = {\n",
    "    \"Version\": \"2012-10-17\",\n",
    "    \"Statement\": [\n",
    "        {\n",
    "            \"Effect\": \"Allow\",\n",
    "            \"Principal\": {\"AWS\": \"*\"},\n",
    "            \"Action\": [\"s3:GetBucketLocation\", \"s3:ListBucket\"],\n",
    "            \"Resource\": \"arn:aws:s3:::obsdata\",\n",
    "        },\n",
    "        {\n",
    "            \"Effect\": \"Allow\",\n",
    "            \"Principal\": {\"AWS\": \"*\"},\n",
    "            \"Action\": \"s3:GetObject\",\n",
    "            \"Resource\": \"arn:aws:s3:::obsdata/*\",\n",
    "        },\n",
    "    ],\n",
    "}"
   ]
  },
  {
   "cell_type": "code",
   "execution_count": 62,
   "id": "helpful-argument",
   "metadata": {},
   "outputs": [],
   "source": [
    "client.set_bucket_policy(\"obsdata\", json.dumps(policy))"
   ]
  },
  {
   "cell_type": "code",
   "execution_count": 74,
   "id": "emerging-cedar",
   "metadata": {},
   "outputs": [],
   "source": [
    "# Example anonymous read-only bucket policy.\n",
    "policy = {\n",
    "    \"Version\": \"2012-10-17\",\n",
    "    \"Statement\": [\n",
    "        {\n",
    "            \"Effect\": \"Allow\",\n",
    "            \"Principal\": {\"AWS\": \"*\"},\n",
    "            \"Action\": [\"s3:GetBucketLocation\", \"s3:ListBucket\"],\n",
    "            \"Resource\": \"arn:aws:s3:::rawdata\",\n",
    "        },\n",
    "        {\n",
    "            \"Effect\": \"Allow\",\n",
    "            \"Principal\": {\"AWS\": \"*\"},\n",
    "            \"Action\": \"s3:GetObject\",\n",
    "            \"Resource\": \"arn:aws:s3:::rawdata/*\",\n",
    "        },\n",
    "    ],\n",
    "}"
   ]
  },
  {
   "cell_type": "code",
   "execution_count": 75,
   "id": "authentic-squad",
   "metadata": {},
   "outputs": [],
   "source": [
    "client.set_bucket_policy(\"rawdata\", json.dumps(policy))"
   ]
  },
  {
   "cell_type": "code",
   "execution_count": 76,
   "id": "creative-terminology",
   "metadata": {},
   "outputs": [],
   "source": [
    "policy = {\n",
    "    \"Version\": \"2012-10-17\",\n",
    "    \"Statement\": [\n",
    "        {\n",
    "            \"Effect\": \"Allow\",\n",
    "            \"Principal\": {\"AWS\": \"*\"},\n",
    "            \"Action\": [\"s3:GetBucketLocation\", \"s3:ListBucket\"],\n",
    "            \"Resource\": \"arn:aws:s3:::CMIP6\",\n",
    "        },\n",
    "        {\n",
    "            \"Effect\": \"Allow\",\n",
    "            \"Principal\": {\"AWS\": \"*\"},\n",
    "            \"Action\": \"s3:GetObject\",\n",
    "            \"Resource\": \"arn:aws:s3:::CMIP6/*\",\n",
    "        },\n",
    "    ],\n",
    "}"
   ]
  },
  {
   "cell_type": "code",
   "execution_count": 77,
   "id": "angry-rings",
   "metadata": {},
   "outputs": [],
   "source": [
    "client.set_bucket_policy(\"CMIP6\", json.dumps(policy))"
   ]
  },
  {
   "cell_type": "code",
   "execution_count": null,
   "id": "unlikely-arkansas",
   "metadata": {},
   "outputs": [],
   "source": []
  }
 ],
 "metadata": {
  "kernelspec": {
   "display_name": "Python 3",
   "language": "python",
   "name": "python3"
  },
  "language_info": {
   "codemirror_mode": {
    "name": "ipython",
    "version": 3
   },
   "file_extension": ".py",
   "mimetype": "text/x-python",
   "name": "python",
   "nbconvert_exporter": "python",
   "pygments_lexer": "ipython3",
   "version": "3.8.8"
  }
 },
 "nbformat": 4,
 "nbformat_minor": 5
}
