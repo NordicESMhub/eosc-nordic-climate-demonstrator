{
 "cells": [
  {
   "cell_type": "markdown",
   "id": "handled-business",
   "metadata": {},
   "source": [
    "# Using s3fs to read and write\n",
    "- your credentials are in `$HOME/.aws/credentials` \n",
    "- check with your instructor to get the secret access key (replace XXX by the right key)\n",
    "\n",
    "```\n",
    "[default]\n",
    "aws_access_key_id=forces2021-work\n",
    "aws_secret_access_key=XXXXXXXXXXXX\n",
    "aws_endpoint_url=https://forces2021.uiogeo-apps.sigma2.no/\n",
    "```"
   ]
  },
  {
   "cell_type": "code",
   "execution_count": 7,
   "id": "killing-jefferson",
   "metadata": {},
   "outputs": [],
   "source": [
    "import s3fs"
   ]
  },
  {
   "cell_type": "code",
   "execution_count": 8,
   "id": "reported-river",
   "metadata": {},
   "outputs": [],
   "source": [
    "fs = s3fs.S3FileSystem(anon=False,\n",
    "      client_kwargs={\n",
    "         'endpoint_url': 'https://forces2021.uiogeo-apps.sigma2.no/'\n",
    "      })"
   ]
  },
  {
   "cell_type": "code",
   "execution_count": 10,
   "id": "dominican-difference",
   "metadata": {
    "tags": []
   },
   "outputs": [
    {
     "data": {
      "text/plain": [
       "{'ResponseMetadata': {'RequestId': '16ADA27293062B17',\n",
       "  'HostId': '',\n",
       "  'HTTPStatusCode': 200,\n",
       "  'HTTPHeaders': {'date': 'Wed, 13 Oct 2021 16:00:52 GMT',\n",
       "   'content-length': '0',\n",
       "   'connection': 'keep-alive',\n",
       "   'accept-ranges': 'bytes',\n",
       "   'content-security-policy': 'block-all-mixed-content',\n",
       "   'etag': '\"d41d8cd98f00b204e9800998ecf8427e\"',\n",
       "   'vary': 'Origin',\n",
       "   'x-amz-request-id': '16ADA27293062B17',\n",
       "   'x-xss-protection': '1; mode=block'},\n",
       "  'RetryAttempts': 0},\n",
       " 'ETag': '\"d41d8cd98f00b204e9800998ecf8427e\"'}"
      ]
     },
     "execution_count": 10,
     "metadata": {},
     "output_type": "execute_result"
    }
   ],
   "source": [
    "fs.touch(\"work/test.txt\")"
   ]
  },
  {
   "cell_type": "code",
   "execution_count": 9,
   "id": "color-pencil",
   "metadata": {},
   "outputs": [
    {
     "data": {
      "text/plain": [
       "['work/test.txt']"
      ]
     },
     "execution_count": 9,
     "metadata": {},
     "output_type": "execute_result"
    }
   ],
   "source": [
    "fs.ls('work')"
   ]
  },
  {
   "cell_type": "code",
   "execution_count": null,
   "id": "recognized-audio",
   "metadata": {},
   "outputs": [],
   "source": []
  }
 ],
 "metadata": {
  "kernelspec": {
   "display_name": "Python 3",
   "language": "python",
   "name": "python3"
  },
  "language_info": {
   "codemirror_mode": {
    "name": "ipython",
    "version": 3
   },
   "file_extension": ".py",
   "mimetype": "text/x-python",
   "name": "python",
   "nbconvert_exporter": "python",
   "pygments_lexer": "ipython3",
   "version": "3.8.8"
  }
 },
 "nbformat": 4,
 "nbformat_minor": 5
}
