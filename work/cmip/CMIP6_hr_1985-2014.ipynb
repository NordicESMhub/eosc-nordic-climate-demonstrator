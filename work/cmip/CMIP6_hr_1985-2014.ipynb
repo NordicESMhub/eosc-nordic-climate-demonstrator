{
 "cells": [
  {
   "cell_type": "markdown",
   "metadata": {},
   "source": [
    "# Example with high-resolution CMIP6 models (~100 km) using Pangeo catalog \n",
    "\n",
    "### Time period\n",
    "\n",
    "We will use data from 1985 to 2014.\n",
    "\n",
    "### Variables \n",
    "\n",
    "| shortname     |             Long name                   |      Units    |  levels |\n",
    "| ------------- |:---------------------------------------:| -------------:|--------:|\n",
    "|  prsn         |    Snowfall Flux                        | [kg m-2 s-1]  | surface |\n",
    "| clw           |    Mass Fraction of Cloud Liquid Water  |  [kg kg-1]    |    ml   |\n",
    "| cli           |    Mass Fraction of Cloud Ice           | [kg kg-1]     |    ml   |\n",
    "| tas           |    Near-Surface Air Temperature         |   [K]         | surface |\n",
    "| ta            |    Air Temperature                      |  [K]          |    ml   |\n"
   ]
  },
  {
   "cell_type": "markdown",
   "metadata": {},
   "source": [
    "## Import python packages"
   ]
  },
  {
   "cell_type": "code",
   "execution_count": null,
   "metadata": {},
   "outputs": [],
   "source": [
    "# supress warnings\n",
    "import warnings\n",
    "warnings.filterwarnings('ignore') # don't output warnings\n",
    "\n",
    "# import packages\n",
    "import xarray as xr\n",
    "xr.set_options(display_style='html')\n",
    "import intake\n",
    "import cftime\n",
    "import cartopy.crs as ccrs\n",
    "import matplotlib.pyplot as plt\n",
    "import xesmf as xe\n",
    "from glob import glob\n",
    "import pandas as pd\n",
    "import numpy as np\n",
    "\n",
    "%matplotlib inline\n",
    "\n",
    "\n",
    "# reload imports\n",
    "%load_ext autoreload\n",
    "%autoreload 2"
   ]
  },
  {
   "cell_type": "markdown",
   "metadata": {},
   "source": [
    "### Open CMIP6 online catalog"
   ]
  },
  {
   "cell_type": "code",
   "execution_count": null,
   "metadata": {},
   "outputs": [],
   "source": [
    "cat_url = \"https://storage.googleapis.com/cmip6/pangeo-cmip6.json\"\n",
    "col = intake.open_esm_datastore(cat_url)\n",
    "col"
   ]
  },
  {
   "cell_type": "markdown",
   "metadata": {},
   "source": [
    "### Search correspnding data"
   ]
  },
  {
   "cell_type": "code",
   "execution_count": null,
   "metadata": {},
   "outputs": [],
   "source": [
    "list_models = ['AWI-CM-1-1-MR',\n",
    "               'BCC-CSM2-MR',\n",
    "               'CAMS-CSM1-0',\n",
    "               'CAS-ESM2-0',\n",
    "               'CESM2',\n",
    "               'CESM2-WACCM-FV2',\n",
    "               'CMCC-CM2-HR4',\n",
    "               'CMCC-CM2-SR5',\n",
    "               'CMCC-ESM2',\n",
    "               'E3SM-1-0',\n",
    "               'E3SM-1-1',\n",
    "               'E3SM-1-1-ECA',\n",
    "               'EC-Earth3',\n",
    "               'EC-Earth3-AerChem',\n",
    "               'EC-Earth3-CC',\n",
    "               'EC-Earth3-Veg',\n",
    "               'FGOALS-f3-L',\n",
    "               'FIO-ESM-2-0',\n",
    "               'GFDL-CM4',\n",
    "               'GFDL-ESM4',\n",
    "               'HadGEM3-GC31-MM',\n",
    "               'INM-CM4-8',\n",
    "               'INM-CM5-0',\n",
    "               'MPI-ESM1-2-HR',\n",
    "               'MRI-ESM2-0',\n",
    "               'NorESM2-MM',\n",
    "               'SAM0-UNICON',\n",
    "               'TaiESM1', \n",
    "               ]\n",
    "\n"
   ]
  },
  {
   "cell_type": "code",
   "execution_count": null,
   "metadata": {},
   "outputs": [],
   "source": [
    "variable_id=['prsn']\n",
    "cat = col.search(source_id=list_models, experiment_id=['historical'], variable_id=variable_id[0], member_id=['r1i1p1f1'])\n",
    "cat.df"
   ]
  },
  {
   "cell_type": "code",
   "execution_count": null,
   "metadata": {},
   "outputs": [],
   "source": [
    "cat.df['source_id'].unique()"
   ]
  },
  {
   "cell_type": "markdown",
   "metadata": {},
   "source": [
    "### Create dictionary from the list of datasets we found\n",
    "\n",
    "- This step may take several minutes so be patient!"
   ]
  },
  {
   "cell_type": "code",
   "execution_count": null,
   "metadata": {},
   "outputs": [],
   "source": [
    "dset_dict = cat.to_dataset_dict(zarr_kwargs={'use_cftime':True})"
   ]
  },
  {
   "cell_type": "code",
   "execution_count": null,
   "metadata": {},
   "outputs": [],
   "source": [
    "list(dset_dict.keys())"
   ]
  },
  {
   "cell_type": "markdown",
   "metadata": {},
   "source": [
    "### Use data as xarray to make a simple plot"
   ]
  },
  {
   "cell_type": "code",
   "execution_count": null,
   "metadata": {},
   "outputs": [],
   "source": [
    "ds = dset_dict['CMIP.NCC.NorESM2-MM.historical.Amon.gn']\n",
    "ds"
   ]
  },
  {
   "cell_type": "code",
   "execution_count": null,
   "metadata": {},
   "outputs": [],
   "source": [
    "fig = plt.figure(1, figsize=[10,10])\n",
    "\n",
    "ax = plt.subplot(1, 1, 1, projection=ccrs.Orthographic(0, 90))\n",
    "ax.coastlines()\n",
    "ds['prsn'].sel(time=cftime.DatetimeNoLeap(1985, 1, 16, 12, 0, 0, 0)).plot(ax=ax, transform=ccrs.PlateCarree(), cmap='coolwarm')"
   ]
  },
  {
   "cell_type": "markdown",
   "metadata": {},
   "source": [
    "### Get attributes (unique identifier)"
   ]
  },
  {
   "cell_type": "code",
   "execution_count": null,
   "metadata": {},
   "outputs": [],
   "source": [
    "ds.attrs['tracking_id']"
   ]
  },
  {
   "cell_type": "markdown",
   "metadata": {},
   "source": [
    "# Regrid CMIP6 data to common NorESM2-MM grid"
   ]
  },
  {
   "cell_type": "code",
   "execution_count": null,
   "metadata": {},
   "outputs": [],
   "source": [
    "def to_DatetimeNoLeap(da):\n",
    "    '''Takes a DataArray. Change the \n",
    "    calendar to DatetimeNoLeap.\n",
    "    https://climate-cms.org/2019/11/12/Calendars-and-monthly-data.html'''\n",
    "    val = da.copy()\n",
    "    time1 = da.time.copy()\n",
    "    for itime in range(val.sizes['time']):\n",
    "        bb = val.time.values[itime].timetuple()\n",
    "        time1.values[itime] = cftime.DatetimeNoLeap(bb[0],bb[1],bb[2])\n",
    "\n",
    "    # We rename the time dimension and coordinate to time360 to make it clear it isn't \n",
    "    # the original time coordinate.\n",
    "    val = val.rename({'time':'time'})\n",
    "    time1 = time1.rename({'time':'time'})\n",
    "    val = val.assign_coords({'time':time1})\n",
    "    return val\n"
   ]
  },
  {
   "cell_type": "code",
   "execution_count": null,
   "metadata": {},
   "outputs": [],
   "source": [
    "starty = 1985; endy = 2014\n",
    "year_range = range(starty, endy+1)\n",
    "\n",
    "# create dictionary for reggridded data\n",
    "ds_gridded_dict = dict()\n",
    "\n",
    "# Read in the output grid from NorESM\n",
    "ds_out = dset_dict['CMIP.NCC.NorESM2-MM.historical.Amon.gn'].isel(member_id = 0)\n",
    "ds_out = ds_out.sel(time = ds_out.time.dt.year.isin(year_range)).squeeze()\n",
    "\n",
    "counter = 0\n",
    "\n",
    "ds_prsn_cmip = xr.Dataset(\n",
    "    data_vars=dict(\n",
    "        prsn=(['time', 'lon', 'lat'], np.full(shape = (0, 0, 0), fill_value=np.nan)),\n",
    "        ),\n",
    "    coords=dict(time=([]), lon=([]), lat=([]), ), \n",
    "    attrs=None)\n",
    "ds_prsn_cmip = ds_prsn_cmip.assign_coords({\"model\": np.full(shape = (len(ds_gridded_dict),), fill_value=range(len(ds_gridded_dict)))})\n",
    "\n",
    "\n",
    "for keys in dset_dict.keys():\n",
    "    # select only models which have atmospheric monthly values\n",
    "    amon = keys.split('.')[-2]\n",
    "    if amon == 'Amon': \n",
    "        # select model name \n",
    "        model = keys.split('.')[2]\n",
    "        \n",
    "        # select where data should be saved\n",
    "        filename = '{}_Amon_1deg_{}01_{}12.nc'.format(variable_id[0], starty, endy)\n",
    "        savepath = '/home/franzihe/Documents/Data/output/CMIP6_hist/1deg/{}/'.format(model)\n",
    "        nc_out = savepath + filename\n",
    "        files = glob(nc_out)\n",
    "        \n",
    "        if nc_out in files:\n",
    "            print('{}+{} is downloaded'.format(savepath, filename))\n",
    "            counter += 1\n",
    "            print('Have regridded in total: {:} files'.format(str(counter)))\n",
    "        else:\n",
    "            \n",
    "            # Input data from CMIP6 model to be regridded\n",
    "            ds_in = dset_dict[keys].isel(member_id = 0)\n",
    "            ds_in = ds_in.sel(time = ds_in.time.dt.year.isin(year_range)).squeeze()\n",
    "            \n",
    "            # common time grid\n",
    "            ds_in = to_DatetimeNoLeap(ds_in)\n",
    "            \n",
    "            \n",
    "            # Regrid and save to file to nc_out\n",
    "            \n",
    "            # Regridder data\n",
    "            regridder = xe.Regridder(ds_in, ds_out, 'bilinear')\n",
    "  \n",
    "            \n",
    "            # Apply regridder to data\n",
    "            # the entire dataset can be processed at once\n",
    "            ds_in_regrid = regridder(ds_in)\n",
    "            \n",
    "            # verify that the result is the same as regridding each variable one-by-one\n",
    "            for k in ds_in.data_vars:\n",
    "                print(k, ds_in_regrid[k].equals(regridder(ds_in[k])))\n",
    "\n",
    "                if ds_in_regrid[k].equals(regridder(ds_in[k])) == True:\n",
    "                    ### Assign attributes from the original file to the regridded data\n",
    "                    #  ds_in_regrid.attrs['Conventions'] = ds_in.attrs['Conventions']\n",
    "                    # ds_in_regrid.attrs['history']     = ds_in.attrs['history']\n",
    "                    ds_in_regrid.attrs = ds_in.attrs\n",
    "                    \n",
    "                    ds_in_regrid[k].attrs['units']         = ds_in[k].attrs['units']\n",
    "                    ds_in_regrid[k].attrs['long_name']     = ds_in[k].attrs['long_name']\n",
    "                    ds_in_regrid[k].attrs['standard_name'] = ds_in[k].attrs['standard_name']\n",
    "                    try:\n",
    "                        ds_in_regrid[k].attrs['comment']       = ds_in[k].attrs['comment']\n",
    "                        ds_in_regrid[k].attrs['original_name'] = ds_in[k].attrs['original_name']\n",
    "                        ds_in_regrid[k].attrs['cell_methods']  = ds_in[k].attrs['cell_methods']\n",
    "                        ds_in_regrid[k].attrs['cell_measures'] = ds_in[k].attrs['cell_measures']\n",
    "                    except KeyError:\n",
    "                        continue\n",
    "            \n",
    "            # Shift the longitude from 0-->360 to -180-->180 and sort by longitude and time\n",
    "            ds_in_regrid = ds_in_regrid.assign_coords(lon=(((ds.lon + 180) % 360) - 180)).sortby('lon').sortby('time')\n",
    "            \n",
    "            \n",
    "            # Save to netcdf file\n",
    "            ds_in_regrid.to_netcdf(nc_out)\n",
    "            ds_in_regrid.close(); ds_in.close(); ds_out.close()\n",
    "            print('file written: .{}'.format(nc_out))\n",
    "            \n",
    "            # create dataset with all models\n",
    "            ds_gridded_dict[model] = ds_in_regrid\n",
    "            ds_gridded_dict[model] = ds_gridded_dict[model].assign_coords({\"model\": np.full(shape = (0,), fill_value=np.nan)})\n",
    "            ds_prsn_cmip = xr.concat([ds_prsn_cmip.chunk(chunks={'time': 180, 'lat': 192, 'lon': 288 }), ds_gridded_dict[model].chunk(chunks={'time': 180, 'lat': 192, 'lon': 288 })], dim = 'model')\n",
    "            \n"
   ]
  },
  {
   "cell_type": "markdown",
   "metadata": {},
   "source": [
    "# Create model and seasonal mean of all regridded models"
   ]
  },
  {
   "cell_type": "code",
   "execution_count": null,
   "metadata": {},
   "outputs": [],
   "source": [
    "prsn = ds_prsn_cmip.prsn.mean('model').groupby('time.season').mean('time', keep_attrs=True)"
   ]
  },
  {
   "cell_type": "code",
   "execution_count": null,
   "metadata": {},
   "outputs": [],
   "source": []
  },
  {
   "cell_type": "code",
   "execution_count": null,
   "metadata": {},
   "outputs": [],
   "source": []
  }
 ],
 "metadata": {
  "interpreter": {
   "hash": "cf95850aaa3509c2fff5caec8045b1d260f0651d5c89645dfc97935f2fb6684b"
  },
  "kernelspec": {
   "display_name": "Python 3.7.10 64-bit ('xesmf_env': conda)",
   "name": "python3"
  },
  "language_info": {
   "codemirror_mode": {
    "name": "ipython",
    "version": 3
   },
   "file_extension": ".py",
   "mimetype": "text/x-python",
   "name": "python",
   "nbconvert_exporter": "python",
   "pygments_lexer": "ipython3",
   "version": "3.7.10"
  }
 },
 "nbformat": 4,
 "nbformat_minor": 5
}
