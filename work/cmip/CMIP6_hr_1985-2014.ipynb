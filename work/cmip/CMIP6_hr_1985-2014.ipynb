{
 "cells": [
  {
   "cell_type": "markdown",
   "id": "709c8e52",
   "metadata": {},
   "source": [
    "# Example with high-resolution CMIP6 models (~100 km) using Pangeo catalog \n",
    "\n",
    "### Time period\n",
    "\n",
    "We will use data from 1985 to 2014.\n",
    "\n",
    "### Variables \n",
    "\n",
    "| shortname     |             Long name                   |      Units    |  levels |\n",
    "| ------------- |:---------------------------------------:| -------------:|--------:|\n",
    "|  prsn         |    Snowfall Flux                        | [kg m-2 s-1]  | surface |\n",
    "| clw           |    Mass Fraction of Cloud Liquid Water  |  [kg kg-1]    |    ml   |\n",
    "| cli           |    Mass Fraction of Cloud Ice           | [kg kg-1]     |    ml   |\n",
    "| tas           |    Near-Surface Air Temperature         |   [K]         | surface |\n",
    "| ta            |    Air Temperature                      |  [K]          |    ml   |\n",
    "| clivi         |    Ice Water Path                       | [kg m-2]      |         |\n",
    "| lwp           |    Liquid Water Path                    | [kg m-2]      |         |\n",
    "| pr            |    Precipitation                        | [kg m-2 s-1]  | surface |\n"
   ]
  },
  {
   "cell_type": "markdown",
   "id": "c652dc0b",
   "metadata": {},
   "source": [
    "## Import python packages"
   ]
  },
  {
   "cell_type": "code",
   "execution_count": null,
   "id": "a4caa42d",
   "metadata": {},
   "outputs": [],
   "source": [
    "# supress warnings\n",
    "import warnings\n",
    "warnings.filterwarnings('ignore') # don't output warnings\n",
    "\n",
    "# import packages\n",
    "import sys\n",
    "sys.path.append('/uio/kant/geo-metos-u1/franzihe/Documents/Python/globalsnow/eosc-nordic-climate-demonstrator/work/utils')\n",
    "from imports import (xr, intake, cftime,  xe, glob, np, cm, pd, fct,ccrs, cy, plt)\n",
    "\n",
    "xr.set_options(display_style=\"html\")\n",
    "\n",
    "# %matplotlib inline\n",
    "\n",
    "\n",
    "# reload imports\n",
    "%load_ext autoreload\n",
    "%autoreload 2"
   ]
  },
  {
   "cell_type": "markdown",
   "id": "1900635d",
   "metadata": {},
   "source": [
    "### Open CMIP6 online catalog"
   ]
  },
  {
   "cell_type": "code",
   "execution_count": null,
   "id": "b69b9422",
   "metadata": {},
   "outputs": [],
   "source": [
    "cat_url = \"https://storage.googleapis.com/cmip6/pangeo-cmip6.json\"\n",
    "col = intake.open_esm_datastore(cat_url)\n",
    "col"
   ]
  },
  {
   "cell_type": "markdown",
   "id": "320dc599",
   "metadata": {},
   "source": [
    "### Search corresponding data"
   ]
  },
  {
   "cell_type": "code",
   "execution_count": null,
   "id": "c2b7a5ec",
   "metadata": {},
   "outputs": [],
   "source": [
    "list_models = [\n",
    "    'NorESM2-MM',\n",
    "    'TaiESM1',\n",
    "    'EC-Earth3-AerChem',\n",
    "    'GFDL-ESM4',\n",
    "    'SAM0-UNICON',\n",
    "    'CAMS-CSM1-0',\n",
    "    'CMCC-CM2-HR4',\n",
    "    'MPI-ESM1-2-HR',\n",
    "    'BCC-CSM2-MR',\n",
    "    'E3SM-1-1',\n",
    "    'CMCC-CM2-SR5',\n",
    "    'CMCC-ESM2',\n",
    "    'FGOALS-f3-L',\n",
    "    'E3SM-1-1-ECA',\n",
    "    'CIESM',\n",
    "    'GFDL-CM4',\n",
    "    'MRI-ESM2-0']  "
   ]
  },
  {
   "cell_type": "code",
   "execution_count": null,
   "id": "540777e0",
   "metadata": {},
   "outputs": [],
   "source": [
    "variable_id=[\n",
    "            #  'prsn', \n",
    "            #  'clivi',\n",
    "            # 'lwp',\n",
    "            # 'tas',\n",
    "            # 'pr',\n",
    "            'clw'\n",
    "\n",
    "             ]\n",
    "cat = col.search(source_id=list_models, table_id = ['Amon', 'AERmon'], experiment_id=['historical'], variable_id=variable_id[0], member_id=['r1i1p1f1'])\n",
    "cat.df"
   ]
  },
  {
   "cell_type": "code",
   "execution_count": null,
   "id": "7911b960",
   "metadata": {},
   "outputs": [],
   "source": [
    "cat.df['source_id'].unique()"
   ]
  },
  {
   "cell_type": "markdown",
   "id": "7b5c4b0a",
   "metadata": {},
   "source": [
    "### Create dictionary from the list of datasets we found\n",
    "\n",
    "- This step may take several minutes so be patient!"
   ]
  },
  {
   "cell_type": "code",
   "execution_count": null,
   "id": "550968bc",
   "metadata": {},
   "outputs": [],
   "source": [
    "# pass rename_cmip6 to consistently label coordinates\n",
    "dset_dict = cat.to_dataset_dict(zarr_kwargs={'use_cftime':True,}, )#preprocess=rename_cmip6)#'use_cftime':True})'decode_times':False"
   ]
  },
  {
   "cell_type": "code",
   "execution_count": null,
   "id": "0ce1f543",
   "metadata": {},
   "outputs": [],
   "source": [
    "list(dset_dict.keys())"
   ]
  },
  {
   "cell_type": "code",
   "execution_count": null,
   "id": "febae699",
   "metadata": {},
   "outputs": [],
   "source": [
    "# show coordinates\n",
    "for k, ds in dset_dict.items():\n",
    "    print(k)\n",
    "    print(list(ds.dims))"
   ]
  },
  {
   "cell_type": "markdown",
   "id": "af9cced3",
   "metadata": {},
   "source": [
    "Double check the time axis. Are they having the same calendar?"
   ]
  },
  {
   "cell_type": "code",
   "execution_count": null,
   "id": "700f00d3",
   "metadata": {},
   "outputs": [],
   "source": [
    "# metadata of the historical run:\n",
    "_d2 = pd.Series([\"calendar\",\n",
    "                 \"branch_time_in_parent\", #\"parent_activity_id\", \"parent_experiment_id\",\t\"parent_mip_era\",\n",
    "                 \"parent_source_id\",#\"parent_sub_experiment_id\", \n",
    "                 \"parent_time_units\",# \"parent_variant_label\"\n",
    "                  ])\n",
    "for i in dset_dict.keys():\n",
    "    _data = []\n",
    "    _names =[]\n",
    "    _data.append(dset_dict[i].time.to_index().calendar)\n",
    "    for k, v in dset_dict[i].attrs.items():\n",
    "        \n",
    "        if 'parent_time_units' in k or 'branch_time_in_parent' in k or 'parent_source_id' in k:\n",
    "            _data.append(v)\n",
    "            _names.append(k)\n",
    "    _d2 = pd.concat([_d2,   pd.Series(_data)], axis=1)\n",
    "    _d2.rename(columns={1:i.split('.')[2]}, inplace=True)\n",
    "    _d2.rename(columns={0:i.split('.')[2]}, inplace=True)\n",
    "\n",
    "_d2.dropna(how='all', axis=1, inplace=True)\n",
    "_d2"
   ]
  },
  {
   "cell_type": "markdown",
   "id": "bdde1726",
   "metadata": {},
   "source": [
    "### Use data as xarray to make a simple plot"
   ]
  },
  {
   "cell_type": "code",
   "execution_count": null,
   "id": "e045126e",
   "metadata": {},
   "outputs": [],
   "source": [
    "if variable_id[0] == 'lwp':\n",
    "    ds = dset_dict['CMIP.NCC.NorESM2-MM.historical.AERmon.gn']\n",
    "else:\n",
    "    ds = dset_dict['CMIP.NCC.NorESM2-MM.historical.Amon.gn']\n",
    "ds"
   ]
  },
  {
   "cell_type": "code",
   "execution_count": null,
   "id": "fd6d3f1d",
   "metadata": {},
   "outputs": [],
   "source": [
    "ds[variable_id[0]].attrs"
   ]
  },
  {
   "cell_type": "code",
   "execution_count": null,
   "id": "dd387166",
   "metadata": {},
   "outputs": [],
   "source": [
    "if ds.lev.all() == True:\n",
    "   _month = ds.clw.isel(lev =16).groupby('time.month').mean('time', keep_attrs = True)\n",
    "   \n",
    "else:\n",
    "    _month = ds[variable_id[0]].groupby('time.month').mean('time', keep_attrs = True)\n",
    "\n",
    "_jan  = _month.sel(month = 1)"
   ]
  },
  {
   "cell_type": "code",
   "execution_count": null,
   "id": "5d4efe08",
   "metadata": {},
   "outputs": [],
   "source": [
    "fig, ax = plt.subplots(1,1, \n",
    "                         figsize=[10,10], \n",
    "                         subplot_kw={'projection':ccrs.Orthographic(30, 90)})\n",
    "fig.suptitle('CMIP6 - high resolution (1985 - 2014)', fontsize=16, fontweight=\"bold\")\n",
    "\n",
    "# Plot cosmetics \n",
    "ax.coastlines()\n",
    "gl = ax.gridlines()\n",
    "ax.add_feature(cy.feature.BORDERS);\n",
    "gl.top_labels = False\n",
    "\n",
    "im = _month.sel(month = 1).plot(ax=ax, transform=ccrs.PlateCarree(), add_colorbar = True,extend = 'max')\n",
    "\n",
    "\n",
    "\n",
    "plt.tight_layout()\n",
    "fig.subplots_adjust(top=1)"
   ]
  },
  {
   "cell_type": "code",
   "execution_count": null,
   "id": "fb2c85ce",
   "metadata": {},
   "outputs": [],
   "source": [
    "fig = plt.figure(1, figsize=[10,10])\n",
    "\n",
    "ax = plt.subplot(1, 1, 1, projection=ccrs.Orthographic(0, 90))\n",
    "ax.coastlines()\n",
    "if ds.lev.all() == True:\n",
    "    ds[variable_id[0]].isel(lev=16).sel(time=cftime.DatetimeNoLeap(1985, 1, 16, 12, 0, 0, 0)).plot(ax=ax, transform=ccrs.PlateCarree(), cmap='coolwarm')\n",
    "else:\n",
    "    ds[variable_id[0]].sel(time=cftime.DatetimeNoLeap(1985, 1, 16, 12, 0, 0, 0)).plot(ax=ax, transform=ccrs.PlateCarree(), cmap='coolwarm')"
   ]
  },
  {
   "cell_type": "markdown",
   "id": "738b2a6b",
   "metadata": {},
   "source": [
    "### Get attributes (unique identifier)"
   ]
  },
  {
   "cell_type": "code",
   "execution_count": null,
   "id": "5268b474",
   "metadata": {},
   "outputs": [],
   "source": [
    "ds.attrs['tracking_id']"
   ]
  },
  {
   "cell_type": "markdown",
   "id": "688d8d63",
   "metadata": {},
   "source": [
    "# Calculate pressure coordinates from sigma-pressure \n",
    "\n",
    "[Find support here](https://nordicesmhub.github.io/GEO4962/05-psyplot-simple_case/index.html)\n",
    "\n",
    "First, Calculate the pressure levels with the equation:\n",
    "\n",
    "$$ P(i,j,k) = A(k)P_0 + B(k)P_s(i,j)$$\n",
    "\n",
    "GFDL-ESM4 is the only model which does not provide $P_s$ or $P_0$. A full documentation of GFDL-ESM4 is published in\n",
    "\n",
    "\n",
    " Dunne, J. P., Horowitz, L. W., Adcroft, A. J., Ginoux, P., Held, I. M., John, J. G., et al. (2020). The GFDL Earth System Model Version 4.1 (GFDL-ESM 4.1): Overall coupled model description and simulation characteristics. Journal of Advances in Modeling Earth Systems, 12, e2019MS002015. https://doi-org.ezproxy.uio.no/10.1029/2019MS002015 \n",
    "\n",
    " In [Zhao et al., 2018a](https://agupubs-onlinelibrary-wiley-com.ezproxy.uio.no/doi/full/10.1002/2017MS001208) the [supplementary 1 - Table 1](https://agupubs-onlinelibrary-wiley-com.ezproxy.uio.no/action/downloadSupplement?doi=10.1002%2F2017MS001208&file=jame20557-sup-0001-2017MS001208-s1.pdf) supports some information on the calculation of the pressure from sigma-pressure coordinates.\n",
    "\n",
    " For this purpose, in the next step the surface pressure is taken from the pangeo server. "
   ]
  },
  {
   "cell_type": "code",
   "execution_count": null,
   "id": "c2bfc341",
   "metadata": {},
   "outputs": [],
   "source": [
    "for keys in dset_dict.keys():\n",
    "    \n",
    "    \n",
    "    if ('ps' in list(dset_dict[keys].keys())) == False:\n",
    "        model = keys.split('.')[2]\n",
    "        ds_ps = col.search(source_id=model, table_id = ['Amon', ], experiment_id=['historical'], variable_id=['ps','p0', ], member_id=['r1i1p1f1']).to_dataset_dict(zarr_kwargs={'use_cftime':True,}, )\n",
    "        dset_dict[keys].update(ds_ps[keys], )\n",
    "        \n",
    "        \n",
    "    # Rename datasets with different naming convention for constant A\n",
    "    if ('a' in list(dset_dict[keys].keys())) == False:\n",
    "            dset_dict[keys] = dset_dict[keys].rename({'ap':'a'}, )\n",
    "            \n",
    "            \n",
    "    # Convert the model level from sigma to pressure\n",
    "    #### a, b, ps, p0\n",
    "    if ('a' in list(dset_dict[keys].keys())) == True and ('b' in list(dset_dict[keys].keys())) == True and ('p0' in list(dset_dict[keys].keys())) == True and ('ps' in list(dset_dict[keys].keys())) == True:\n",
    "            dset_dict[keys]['pressure'] = dset_dict[keys]['a']*dset_dict[keys]['p0'] + dset_dict[keys]['b']*dset_dict[keys]['ps']\n",
    "            dset_dict[keys]['pressure'].attrs = {'units': dset_dict[keys]['ps'].attrs['units'], 'long_name': 'Pressure', 'comment': 'calculated with p(i,j,k) = a*p0+b*ps','cell_methods': 'area: time: mean', 'cell_measures': 'area: areacella'}\n",
    "            dset_dict[keys] = dset_dict[keys].drop(('a', 'p0', 'b', 'ps'))\n",
    "    #### a, b, ps\n",
    "    elif ('a' in list(dset_dict[keys].keys())) == True and ('b' in list(dset_dict[keys].keys())) == True and ('ps' in list(dset_dict[keys].keys())) == True and ('p0' in list(dset_dict[keys].keys())) == False:\n",
    "            dset_dict[keys]['pressure'] = dset_dict[keys]['a'] + dset_dict[keys]['b']*dset_dict[keys]['ps']\n",
    "            dset_dict[keys]['pressure'].attrs = {'units': dset_dict[keys]['ps'].attrs['units'], 'long_name': 'Pressure', 'comment': 'calculated with p(i,j,k) = a+b*ps','cell_methods': 'area: time: mean', 'cell_measures': 'area: areacella'}\n",
    "            dset_dict[keys] = dset_dict[keys].drop(('a', 'b', 'ps'))\n"
   ]
  },
  {
   "cell_type": "markdown",
   "id": "5d66e138",
   "metadata": {},
   "source": [
    "# Regrid CMIP6 data to common NorESM2-MM grid"
   ]
  },
  {
   "cell_type": "code",
   "execution_count": null,
   "id": "13589926",
   "metadata": {},
   "outputs": [],
   "source": [
    "starty = 1985; endy = 2014\n",
    "year_range = range(starty, endy+1)\n",
    "\n",
    "# create dictionary for reggridded data\n",
    "ds_gridded_dict = dict()\n",
    "\n",
    "# Read in the output grid from NorESM\n",
    "if variable_id[0] == 'lwp':\n",
    "    ds_out = dset_dict['CMIP.NCC.NorESM2-MM.historical.AERmon.gn'].isel(member_id = 0)\n",
    "else:\n",
    "    ds_out = dset_dict['CMIP.NCC.NorESM2-MM.historical.Amon.gn'].isel(member_id = 0)\n",
    "ds_out = ds_out.sel(time = ds_out.time.dt.year.isin(year_range)).squeeze()\n",
    "\n",
    "# if ds_out.lev.all == True:\n",
    "#     ds_out = ds_out.transpose\n",
    "\n",
    "counter = 0\n",
    "\n",
    "for keys in dset_dict.keys():\n",
    "    # select only models which have atmospheric monthly values\n",
    "    amon = keys.split('.')[-2]\n",
    "    if amon == 'Amon' or amon == 'AERmon': \n",
    "        # select model name \n",
    "        model = keys.split('.')[2]\n",
    "        \n",
    "        # select where data should be saved\n",
    "        filename = '{}_Amon_1deg_{}01_{}12.nc'.format(variable_id[0], starty, endy)\n",
    "        savepath = '/scratch/franzihe/output/CMIP6_hist/1deg/{}/'.format(model)\n",
    "        nc_out = savepath + filename\n",
    "        files = glob(nc_out)\n",
    "        \n",
    "        \n",
    "            \n",
    "        # Input data from CMIP6 model to be regridded\n",
    "        ds_in = dset_dict[keys].isel(member_id = 0)\n",
    "        ds_in = ds_in.sel(time = ds_in.time.dt.year.isin(year_range)).squeeze()\n",
    "            \n",
    "        # common time grid\n",
    "        ds_in['time'] = ds_out['time']\n",
    "            \n",
    "            \n",
    "            \n",
    "        # Regrid data\n",
    "        ds_in_regrid = fct.regrid_data(ds_in, ds_out)\n",
    "          \n",
    "        # Shift the longitude from 0-->360 to -180-->180 and sort by longitude and time\n",
    "        ds_in_regrid = ds_in_regrid.assign_coords(lon=(((ds_in_regrid.lon + 180) % 360) - 180)).sortby('lon').sortby('time')\n",
    "        ds_in_regrid = ds_in_regrid.reset_coords(names=['time_bnds', ], drop=True)\n",
    "            \n",
    "\n",
    "            \n",
    "        # create dataset with all models\n",
    "        ds_gridded_dict[model] = ds_in_regrid\n",
    "        # ds_in_regrid.close(); ds_in.close(); ds_out.close()\n",
    "\n",
    "        if nc_out in files:\n",
    "        #     print('{} is downloaded'.format(nc_out))\n",
    "        #     counter += 1\n",
    "        #     print('Have regridded in total: {:} files'.format(str(counter)))\n",
    "        # else:    \n",
    "            # Save to netcdf file\n",
    "            ds_in_regrid.to_netcdf(nc_out)\n",
    "            print('file written: {}'.format(nc_out))"
   ]
  },
  {
   "cell_type": "markdown",
   "id": "d041230b",
   "metadata": {},
   "source": [
    "# Interpolate from CMIP6 model levels to ERA5 pressure levels\n",
    "By using metpy.calc.log_interp, data with sigma as the vertical coordinate can be interpolated to isobaric coordinates. Along the example of [MetPy](https://unidata.github.io/MetPy/latest/examples/sigma_to_pressure_interpolation.html?highlight=sigma)."
   ]
  },
  {
   "cell_type": "code",
   "execution_count": null,
   "id": "74ed948f",
   "metadata": {},
   "outputs": [],
   "source": [
    "era_pressure = np.array([   1,    2,    3,    5,    7,   10,   20,   30,   50,   70,  100,  125,\n",
    "        150,  175,  200,  225,  250,  300,  350,  400,  450,  500,  550,  600,\n",
    "        650,  700,  750,  775,  800,  825,  850,  875,  900,  925,  950,  975,\n",
    "       1000])\n",
    "\n",
    "era_pressure = np.flip(era_pressure)"
   ]
  },
  {
   "cell_type": "code",
   "execution_count": null,
   "id": "26baf8b7",
   "metadata": {},
   "outputs": [],
   "source": [
    "for keys in dset_dict.keys():\n",
    "    data = dset_dict[keys]\n",
    "    data['interp_pressure'] = (['level', 'time', 'lat', 'lon'],  np.empty(shape = (era_pressure.shape[0], data.time.shape[0], data.lat.shape[0], data.lon.shape[0])))\n",
    "    data['interp_clw'] = (['level', 'time', 'lat', 'lon'],  np.empty(shape = (era_pressure.shape[0], data.time.shape[0], data.lat.shape[0], data.lon.shape[0])))\n",
    "    for time in range(len(data.time)):\n",
    "        for lat in range(len(data.lat)):\n",
    "            for lon in range(len(data.lon)):\n",
    "                pressure = data['pressure'].isel(time = time, lat = lat, lon = lon).to_masked_array()\n",
    "                clw = data['clw'].isel(time = time, lat = lat, lon = lon, member_id = 0).to_masked_array() \n",
    "                _clw, _pres = fct.log_interpolate_1d_V2(era_pressure, pressure, clw, pressure, axis=0)\n",
    "                \n",
    "                data['interp_pressure'][:, time, lat, lon] = _pres\n",
    "                data['interp_clw'][:, time, lat, lon] = _clw\n",
    "\n",
    "    dset_dict[keys].update(data)     "
   ]
  },
  {
   "cell_type": "markdown",
   "id": "876637d5",
   "metadata": {},
   "source": [
    "# Connect all models into one Dataset with new coordinate 'model'"
   ]
  },
  {
   "cell_type": "code",
   "execution_count": null,
   "id": "f0b01a62",
   "metadata": {},
   "outputs": [],
   "source": [
    "_ds = list(ds_gridded_dict.values())\n",
    "_coord = list(ds_gridded_dict.keys())\n",
    "ds_cmip = xr.concat(objs=_ds, dim=_coord, coords=\"all\").rename({'concat_dim':'model'})\n",
    "ds_cmip = ds_cmip.drop('bnds')\n",
    "\n"
   ]
  },
  {
   "cell_type": "code",
   "execution_count": null,
   "id": "4e4db6aa",
   "metadata": {},
   "outputs": [],
   "source": [
    "if variable_id[0] == 'prsn':\n",
    "    ds_cmip[variable_id[0]] = ds_cmip[variable_id[0]]*86400\n",
    "    ds_cmip[variable_id[0]].attrs = {'units': 'mm day-1', 'long_name': 'Snowfall', 'comment': 'At surface; includes precipitation of all forms of water in the solid phase', 'cell_methods': 'area: time: mean', 'cell_measures': 'area: areacella'}\n",
    "if variable_id[0]  == 'clivi':\n",
    "    ds_cmip[variable_id[0]] = ds_cmip[variable_id[0]]*1000\n",
    "    ds_cmip[variable_id[0]].attrs = {'units': 'g m-2', 'long_name': 'Ice Water Path', 'comment': 'mass of ice water in the column divided by the area of the column (not just the area of the cloudy portion of the column). Includes precipitating frozen hydrometeors ONLY if the precipitating hydrometeor affects the calculation of radiative transfer in model.', 'cell_methods': 'area: time: mean', 'cell_measures': 'area: areacella'}    \n",
    "if variable_id[0] == 'lwp':\n",
    "    ds_cmip[variable_id[0]] = ds_cmip[variable_id[0]]*1000\n",
    "    ds_cmip[variable_id[0]].attrs = {'units': 'g m-2', 'long_name': 'Liquid Water Path', 'comment': 'The total mass of liquid water in cloud per unit area.', 'cell_methods': 'area: time: mean', 'cell_measures': 'area: areacella'}\n",
    "if variable_id[0] == 'pr':\n",
    "    ds_cmip[variable_id[0]] = ds_cmip[variable_id[0]]*86400\n",
    "    ds_cmip[variable_id[0]].attrs = {'units': 'mm day-1', 'long_name': 'Precipitation', 'comment': 'includes both liquid and solid phases','cell_methods': 'area: time: mean', 'cell_measures': 'area: areacella'}"
   ]
  },
  {
   "cell_type": "markdown",
   "id": "4233643d",
   "metadata": {},
   "source": [
    "# Create seasonal mean of all regridded models\n",
    "...and plot seasonal mean of each individual model"
   ]
  },
  {
   "cell_type": "code",
   "execution_count": null,
   "id": "7133bdb2",
   "metadata": {},
   "outputs": [],
   "source": [
    "ds_cmip[variable_id[0]+'_season_mean'] = ds_cmip[variable_id[0]].groupby('time.season').mean('time', keep_attrs=True)"
   ]
  },
  {
   "cell_type": "code",
   "execution_count": null,
   "id": "309b2273",
   "metadata": {},
   "outputs": [],
   "source": [
    "for model in ds_cmip.model.values:\n",
    "    fct.plt_spatial_seasonal_mean(ds_cmip[variable_id[0]+'_season_mean'].sel(model=model), title='{} MEAN ({} - {})'.format(model,starty, endy))"
   ]
  },
  {
   "cell_type": "markdown",
   "id": "13221e8b",
   "metadata": {},
   "source": [
    "# Create model mean/spread of seasonal mean of all regridded models"
   ]
  },
  {
   "cell_type": "code",
   "execution_count": null,
   "id": "8f08410d",
   "metadata": {},
   "outputs": [],
   "source": [
    "ds_cmip[variable_id[0]+'_season_model_mean'] = ds_cmip[variable_id[0]+'_season_mean'].mean('model', keep_attrs=True, skipna = True)\n",
    "ds_cmip[variable_id[0]+'_season_model_std']  = ds_cmip[variable_id[0]+'_season_mean'].std('model', keep_attrs=True, skipna = True)"
   ]
  },
  {
   "cell_type": "code",
   "execution_count": null,
   "id": "1a84b710",
   "metadata": {},
   "outputs": [],
   "source": [
    "if variable_id[0] == 'prsn':\n",
    "    label='Snowfall (mm$\\,$day$^{-1}$)'\n",
    "    vmin = 0\n",
    "    vmax = 2.5\n",
    "    levels = 25\n",
    "    add_colorbar=False\n",
    "    vmin_std = vmin\n",
    "    vmax_std= 0.6\n",
    "if variable_id[0] == 'pr':\n",
    "    label='Total precipitation (mm$\\,$day$^{-1}$)' \n",
    "    vmin = 0\n",
    "    vmax=9\n",
    "    levels = 90\n",
    "    add_colorbar=False\n",
    "    vmin_std =vmin\n",
    "    vmax_std = 2.4\n",
    "elif variable_id[0] == 'clivi':\n",
    "    label='Ice Water Path (g$\\,$m$^{-2}$)'\n",
    "    vmin = 0\n",
    "    vmax=100\n",
    "    levels = 25\n",
    "    add_colorbar = False\n",
    "    vmin_std =vmin\n",
    "    vmax_std = 20\n",
    "elif variable_id[0] == 'lwp':\n",
    "    label='Liquid Water Path (g$\\,$m$^{-2}$)'\n",
    "    vmin = 0\n",
    "    vmax=100\n",
    "    levels = 25\n",
    "    add_colorbar = False\n",
    "    vmin_std =vmin\n",
    "    vmax_std = 20\n",
    "elif variable_id[0] == 'tas':\n",
    "    label='2-m temperature (K)'\n",
    "    vmin = 246\n",
    "    vmax=300\n",
    "    levels = 40\n",
    "    add_colorbar = False\n",
    "    vmin_std = 0\n",
    "    vmax_std=6\n",
    "    "
   ]
  },
  {
   "cell_type": "code",
   "execution_count": null,
   "id": "d2e90a09",
   "metadata": {},
   "outputs": [],
   "source": [
    "fig, axs, im = fct.plt_spatial_seasonal_mean(ds_cmip[variable_id[0]+'_season_model_mean'], vmin, vmax, levels, add_colorbar=False, title='CMIP6 - high resolution (1985 - 2014)')\n",
    "\n",
    "fig.subplots_adjust(right=0.8)\n",
    "cbar_ax = fig.add_axes([1, 0.15, 0.025, 0.7])\n",
    "cb = fig.colorbar(im, cax=cbar_ax, orientation=\"vertical\", fraction=0.046, pad=0.04)\n",
    "cb.set_label(label='MEAN - {}'.format(label), weight='bold')\n",
    "\n",
    "plt.tight_layout()\n",
    "\n",
    "\n",
    "axs[2].text(1,-0.12, ds_cmip.model.values.tolist()[0:5], size=12, ha=\"center\", \n",
    "         transform=axs[2].transAxes, bbox ={'facecolor':'green',\n",
    "                'alpha':0.6,\n",
    "                'pad':5})\n",
    "if len(ds_cmip.model.values.tolist()) > 4:\n",
    "    axs[2].text(1,-0.25, ds_cmip.model.values.tolist()[5:10], size=12, ha=\"center\", \n",
    "            transform=axs[2].transAxes, bbox ={'facecolor':'green',\n",
    "                    'alpha':0.6,\n",
    "                    'pad':5})\n",
    "if len(ds_cmip.model.values.tolist()) > 10:\n",
    "    axs[2].text(1,-0.38, ds_cmip.model.values.tolist()[10:-1], size=12, ha=\"center\", \n",
    "            transform=axs[2].transAxes, bbox ={'facecolor':'green',\n",
    "                    'alpha':0.6,\n",
    "                    'pad':5})\n",
    "    \n",
    "\n",
    "# save figure to png\n",
    "figdir = '/uio/kant/geo-metos-u1/franzihe/Documents/Figures/CMIP6/'\n",
    "figname = '{}_season_mean_1deg_{}_{}.png'.format(variable_id[0], starty, endy)\n",
    "plt.savefig(figdir + figname, format = 'png', bbox_inches = 'tight', transparent = False)"
   ]
  },
  {
   "cell_type": "code",
   "execution_count": null,
   "id": "996c1702",
   "metadata": {},
   "outputs": [],
   "source": [
    "fig, axs, im = fct.plt_spatial_seasonal_mean(ds_cmip[variable_id[0]+'_season_model_mean'], vmin, vmax, levels, add_colorbar=False, title='CMIP6 - high resolution (1985 - 2014)')\n",
    "\n",
    "fig.subplots_adjust(right=0.8)\n",
    "cbar_ax = fig.add_axes([1, 0.15, 0.025, 0.7])\n",
    "cb = fig.colorbar(im, cax=cbar_ax, orientation=\"vertical\", fraction=0.046, pad=0.04)\n",
    "cb.set_label(label='MEAN - {}'.format(label), weight='bold')\n",
    "\n",
    "\n",
    "\n",
    "for ax, i in zip(axs, ds_cmip[variable_id[0]+'_season_model_std'].season):\n",
    "    sm = ds_cmip[variable_id[0]+'_season_model_std'].sel(season=i).plot.contour(ax=ax, transform=ccrs.PlateCarree(), \n",
    "                                                                      robust=True,\n",
    "                                                                      vmin = vmin_std, vmax = vmax_std,\n",
    "                                                                       levels = 6,\n",
    "                                                                      cmap=cm.lajolla,\n",
    "                                                                      add_colorbar=False)\n",
    "    \n",
    "cbar_ax = fig.add_axes([1.10, 0.15, 0.025, 0.7])\n",
    "sb = fig.colorbar(sm, cax=cbar_ax, orientation=\"vertical\", fraction=0.046, pad=0.04)\n",
    "sb.set_label(label='STD - {}'.format(label), weight='bold')\n",
    "\n",
    "\n",
    "plt.tight_layout()\n",
    "\n",
    "\n",
    "axs[2].text(1,-0.12, ds_cmip.model.values.tolist()[0:5], size=12, ha=\"center\", \n",
    "         transform=axs[2].transAxes, bbox ={'facecolor':'green',\n",
    "                'alpha':0.6,\n",
    "                'pad':5})\n",
    "if len(ds_cmip.model.values.tolist()) > 4:\n",
    "    axs[2].text(1,-0.25, ds_cmip.model.values.tolist()[5:10], size=12, ha=\"center\", \n",
    "            transform=axs[2].transAxes, bbox ={'facecolor':'green',\n",
    "                    'alpha':0.6,\n",
    "                    'pad':5})\n",
    "if len(ds_cmip.model.values.tolist()) > 10:\n",
    "    axs[2].text(1,-0.38, ds_cmip.model.values.tolist()[10:-1], size=12, ha=\"center\", \n",
    "            transform=axs[2].transAxes, bbox ={'facecolor':'green',\n",
    "                    'alpha':0.6,\n",
    "                    'pad':5})\n",
    "# save figure to png\n",
    "figdir = '/uio/kant/geo-metos-u1/franzihe/Documents/Figures/CMIP6/'\n",
    "figname = '{}_season_mean_std_1deg_{}_{}.png'.format(variable_id[0], starty, endy)\n",
    "plt.savefig(figdir + figname, format = 'png', bbox_inches = 'tight', transparent = False)"
   ]
  },
  {
   "cell_type": "code",
   "execution_count": null,
   "id": "42b2fd3c",
   "metadata": {},
   "outputs": [],
   "source": [
    "# savet to netcdf\n",
    "filename = '{}_1deg_{}01_{}12.nc'.format(variable_id[0], starty, endy)\n",
    "savepath = '/scratch/franzihe/output/CMIP6_hist/1deg/'\n",
    "nc_out = savepath + filename\n",
    "files = glob(nc_out)\n",
    "\n",
    "counter = 0 \n",
    "# Save to netcdf file\n",
    "if nc_out in files:\n",
    "#     print('{} is downloaded'.format(nc_out))\n",
    "#     counter += 1\n",
    "#     print('Have saved in total: {:} files'.format(str(counter)))\n",
    "# else:\n",
    "    ds_cmip.to_netcdf(nc_out)\n",
    "    print('file written: .{}'.format(nc_out))"
   ]
  },
  {
   "cell_type": "code",
   "execution_count": null,
   "id": "675c2396",
   "metadata": {},
   "outputs": [],
   "source": []
  }
 ],
 "metadata": {
  "interpreter": {
   "hash": "7f24944080b15318569c1ef785be98f8dd5a0531d3a23558ab9e7edab213d92e"
  },
  "kernelspec": {
   "display_name": "Python 3.9.7 64-bit ('globalsnow': conda)",
   "name": "python3"
  },
  "language_info": {
   "codemirror_mode": {
    "name": "ipython",
    "version": 3
   },
   "file_extension": ".py",
   "mimetype": "text/x-python",
   "name": "python",
   "nbconvert_exporter": "python",
   "pygments_lexer": "ipython3",
   "version": "3.8.12"
  }
 },
 "nbformat": 4,
 "nbformat_minor": 5
}
