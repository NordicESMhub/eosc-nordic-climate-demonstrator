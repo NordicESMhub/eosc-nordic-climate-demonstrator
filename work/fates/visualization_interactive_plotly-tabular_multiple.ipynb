{
 "cells": [
  {
   "cell_type": "markdown",
   "metadata": {},
   "source": [
    "# Interactive visualization \n",
    "- output is saved as HTML"
   ]
  },
  {
   "cell_type": "code",
   "execution_count": 29,
   "metadata": {},
   "outputs": [],
   "source": [
    "from plotly.offline import init_notebook_mode\n",
    "import plotly\n",
    "import plotly.graph_objs as go\n",
    "import pandas as pd"
   ]
  },
  {
   "cell_type": "code",
   "execution_count": 30,
   "metadata": {},
   "outputs": [],
   "source": [
    "title = 'CANOPY AREA BY AGE'\n",
    "xtitle = 'time'\n",
    "ytitle = 'canopy area by age bin (m2/m2)'\n",
    "filename = 'CANOPY_AREA_BY_AGE.tabular'"
   ]
  },
  {
   "cell_type": "code",
   "execution_count": 31,
   "metadata": {},
   "outputs": [],
   "source": [
    "df = pd.read_csv(filename, sep='\\t')"
   ]
  },
  {
   "cell_type": "code",
   "execution_count": 32,
   "metadata": {},
   "outputs": [],
   "source": [
    "ans = [pd.DataFrame(y) for x, y in df.groupby('fates_levage', as_index=False)]"
   ]
  },
  {
   "cell_type": "code",
   "execution_count": 33,
   "metadata": {},
   "outputs": [],
   "source": [
    "fates_levage = df['fates_levage'].unique()"
   ]
  },
  {
   "cell_type": "code",
   "execution_count": 34,
   "metadata": {},
   "outputs": [],
   "source": [
    "axis_labels = ans[0].iloc[:, 1].copy()"
   ]
  },
  {
   "cell_type": "code",
   "execution_count": 35,
   "metadata": {},
   "outputs": [],
   "source": [
    "layout_tp = go.Layout(\n",
    "        title=title,\n",
    "        xaxis=dict(title=xtitle),\n",
    "        yaxis=dict(title=ytitle)\n",
    ")"
   ]
  },
  {
   "cell_type": "code",
   "execution_count": 36,
   "metadata": {},
   "outputs": [],
   "source": [
    "for val,fl in zip(ans, fates_levage):\n",
    "    values = val.iloc[:, -1].copy()\n",
    "    trace = go.Scatter(\n",
    "        x=axis_labels,\n",
    "        y=values,\n",
    "        mode='lines+markers',\n",
    "        name= str(fl))\n",
    "    fig_tp = go.Figure(data=[trace], layout=layout_tp)\n",
    "    plotly.offline.plot(fig_tp, filename=\"output_\" + str(fl) + '.html', auto_open=False)"
   ]
  },
  {
   "cell_type": "markdown",
   "metadata": {},
   "source": [
    "# BIOMASS CANOPY"
   ]
  },
  {
   "cell_type": "code",
   "execution_count": 37,
   "metadata": {},
   "outputs": [],
   "source": [
    "title = 'BIOMASS CANOPY'\n",
    "xtitle = 'time'\n",
    "ytitle = 'Biomass of canopy plants (gC m-2)'\n",
    "filename = 'BIOMASS_CANOPY.tabular'"
   ]
  },
  {
   "cell_type": "code",
   "execution_count": 38,
   "metadata": {},
   "outputs": [],
   "source": [
    "df = pd.read_csv(filename, sep='\\t')"
   ]
  },
  {
   "cell_type": "code",
   "execution_count": 39,
   "metadata": {},
   "outputs": [],
   "source": [
    "axis_labels = df.iloc[:, 1].copy()"
   ]
  },
  {
   "cell_type": "code",
   "execution_count": 40,
   "metadata": {},
   "outputs": [],
   "source": [
    "layout_tp = go.Layout(\n",
    "        title=title,\n",
    "        xaxis=dict(title=xtitle),\n",
    "        yaxis=dict(title=ytitle)\n",
    ")"
   ]
  },
  {
   "cell_type": "code",
   "execution_count": 41,
   "metadata": {},
   "outputs": [
    {
     "data": {
      "text/plain": [
       "'output_biomass_canopy.html'"
      ]
     },
     "execution_count": 41,
     "metadata": {},
     "output_type": "execute_result"
    }
   ],
   "source": [
    "values = df.iloc[:, -1].copy()\n",
    "trace = go.Scatter(\n",
    "        x=axis_labels,\n",
    "        y=values,\n",
    "        mode='lines+markers',\n",
    "        name= 'values')\n",
    "fig_tp = go.Figure(data=[trace], layout=layout_tp)\n",
    "plotly.offline.plot(fig_tp, filename=\"output_biomass_canopy.html\", auto_open=False)"
   ]
  },
  {
   "cell_type": "code",
   "execution_count": null,
   "metadata": {},
   "outputs": [],
   "source": []
  }
 ],
 "metadata": {
  "kernelspec": {
   "display_name": "Python 3",
   "language": "python",
   "name": "python3"
  },
  "language_info": {
   "codemirror_mode": {
    "name": "ipython",
    "version": 3
   },
   "file_extension": ".py",
   "mimetype": "text/x-python",
   "name": "python",
   "nbconvert_exporter": "python",
   "pygments_lexer": "ipython3",
   "version": "3.7.6"
  }
 },
 "nbformat": 4,
 "nbformat_minor": 4
}
