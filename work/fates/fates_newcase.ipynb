{
 "cells": [
  {
   "cell_type": "markdown",
   "metadata": {},
   "source": [
    "# Running FATES with CLM on Galaxy JupyterLab"
   ]
  },
  {
   "cell_type": "markdown",
   "metadata": {},
   "source": [
    "## Get inputdata for FATES\n",
    "- make sure you have already imported it in your current history"
   ]
  },
  {
   "cell_type": "code",
   "execution_count": null,
   "metadata": {},
   "outputs": [],
   "source": [
    "%%bash\n",
    "get -t name -i fates_emerald_inputdata.tar\n",
    "tar xf /import/fates_emerald_inputdata.tar --directory $HOME/"
   ]
  },
  {
   "cell_type": "markdown",
   "metadata": {},
   "source": [
    "## Get FATES EMERALD code\n",
    "- we get the current FATES EMERALD source code from github using a specific branch fates_emerald_api\n",
    "- we should make a release..."
   ]
  },
  {
   "cell_type": "code",
   "execution_count": 1,
   "metadata": {},
   "outputs": [
    {
     "name": "stdout",
     "output_type": "stream",
     "text": [
      "Processing externals description file : Externals.cfg\n",
      "Processing externals description file : Externals_CLM.cfg\n",
      "Checking status of externals: clm, fates, ptclm, cism, rtm, mosart, cime, \n",
      "Checking out externals: clm, cism, rtm, mosart, cime, \n",
      "Processing externals description file : Externals_CLM.cfg\n",
      "Checking out externals: fates, ptclm, \n",
      "Processing externals description file : Externals_CISM.cfg\n",
      "Checking out externals: source_cism, \n",
      "\n"
     ]
    },
    {
     "name": "stderr",
     "output_type": "stream",
     "text": [
      "Cloning into 'ctsm'...\n",
      "Checking out files: 100% (1189/1189), done.\n"
     ]
    }
   ],
   "source": [
    "%%bash\n",
    "git clone -b fates_emerald_api https://github.com/NordicESMhub/ctsm.git\n",
    "cd ctsm\n",
    "./manage_externals/checkout_externals "
   ]
  },
  {
   "cell_type": "markdown",
   "metadata": {},
   "source": [
    "## Fix current bug in cime\n",
    "- we should make a new release for cime for fates-emerald."
   ]
  },
  {
   "cell_type": "code",
   "execution_count": 5,
   "metadata": {},
   "outputs": [
    {
     "name": "stdout",
     "output_type": "stream",
     "text": [
      "/data/dnb02/galaxy_db/job_working_directory/009/075/9075208/working/jupyter\n"
     ]
    }
   ],
   "source": [
    "%%bash\n",
    "pwd\n",
    "sed -i.bak 's/# ARCHIVE COMMAND SIMILAR ACROSS ALL PLATFORMS/AR=\"$AR cq\"/' ctsm/cime/src/externals/mct/configure  "
   ]
  },
  {
   "cell_type": "code",
   "execution_count": 8,
   "metadata": {},
   "outputs": [
    {
     "name": "stdout",
     "output_type": "stream",
     "text": [
      "Did not find an alias or longname compset match for 2000_DATM%1PTGSWP3_CLM50%FATES_SICE_SOCN_MOSART_SGLC_SWAV \n",
      "Compset forcing is 1972-2004\n",
      "ATM component is  Data driven ATM single point tower site data set \n",
      "LND component is clm5.0:FATES (Functionally Assembled Terrestrial Ecosystem Simulator) Ecosystem Demography model: (experimental)\n",
      "ICE component is Stub ice component\n",
      "OCN component is Stub ocn component\n",
      "ROF component is MOSART: MOdel for Scale Adaptive River Transport\n",
      "GLC component is Stub glacier (land ice) component\n",
      "WAV component is Stub wave component\n",
      "ESP component is \n",
      "Pes     specification file is /data/dnb02/galaxy_db/job_working_directory/009/075/9075208/working/jupyter/ctsm/cime/../cime_config/config_pes.xml\n",
      "Machine is espresso\n",
      "Pes setting: grid match    is l%1x1|l%CLM_USRDAT \n",
      "Pes setting: grid          is a%1x1_ALP1_l%1x1_ALP1_oi%null_r%null_g%null_w%null_m%null \n",
      "Pes setting: compset       is 2000_DATM%1PTGSWP3_CLM50%FATES_SICE_SOCN_MOSART_SGLC_SWAV \n",
      "Pes setting: tasks       is {'NTASKS_ATM': 1, 'NTASKS_LND': 1, 'NTASKS_ROF': 1, 'NTASKS_ICE': 1, 'NTASKS_OCN': 1, 'NTASKS_GLC': 1, 'NTASKS_WAV': 1, 'NTASKS_CPL': 1} \n",
      "Pes setting: threads     is {'NTHRDS_ATM': 1, 'NTHRDS_LND': 1, 'NTHRDS_ROF': 1, 'NTHRDS_ICE': 1, 'NTHRDS_OCN': 1, 'NTHRDS_GLC': 1, 'NTHRDS_WAV': 1, 'NTHRDS_CPL': 1} \n",
      "Pes setting: rootpe      is {'ROOTPE_ATM': 0, 'ROOTPE_LND': 0, 'ROOTPE_ROF': 0, 'ROOTPE_ICE': 0, 'ROOTPE_OCN': 0, 'ROOTPE_GLC': 0, 'ROOTPE_WAV': 0, 'ROOTPE_CPL': 0} \n",
      "Pes setting: pstrid      is {} \n",
      "Pes other settings: {}\n",
      "Pes comments: none\n",
      " Compset is: 2000_DATM%1PTGSWP3_CLM50%FATES_SICE_SOCN_MOSART_SGLC_SWAV \n",
      " Grid is: a%1x1_ALP1_l%1x1_ALP1_oi%null_r%null_g%null_w%null_m%null \n",
      " Components in compset are: ['datm', 'clm', 'sice', 'socn', 'mosart', 'sglc', 'swav', 'sesp', 'drv', 'dart'] \n",
      "No project info available\n",
      "No charge_account info available, using value from PROJECT\n",
      "No project info available\n",
      "cesm model version found: release-clm5.0.27-226-g88e5e7e3\n",
      "Batch_system_type is none\n",
      " Creating Case directory /data/dnb02/galaxy_db/job_working_directory/009/075/9075208/working/jupyter/ctsm_cases/fates_alp1\n"
     ]
    },
    {
     "name": "stderr",
     "output_type": "stream",
     "text": [
      "Could not find machine match for '1075b2b0f19d' or '1075b2b0f19d'\n"
     ]
    }
   ],
   "source": [
    "%%bash\n",
    "cd ctsm/cime/scripts\n",
    "./create_newcase --case ../../../ctsm_cases/fates_alp1 --compset 2000_DATM%1PTGSWP3_CLM50%FATES_SICE_SOCN_MOSART_SGLC_SWAV --res 1x1_ALP1 --machine espresso --run-unsupported"
   ]
  },
  {
   "cell_type": "code",
   "execution_count": 9,
   "metadata": {},
   "outputs": [
    {
     "name": "stdout",
     "output_type": "stream",
     "text": [
      "Setting resource.RLIMIT_STACK to -1 from (8388608, -1)\n",
      "Creating batch scripts\n",
      "Writing case.run script from input template /data/dnb02/galaxy_db/job_working_directory/009/075/9075208/working/jupyter/ctsm/cime/config/cesm/machines/template.case.run\n",
      "Creating file .case.run\n",
      "Writing case.st_archive script from input template /data/dnb02/galaxy_db/job_working_directory/009/075/9075208/working/jupyter/ctsm/cime/config/cesm/machines/template.st_archive\n",
      "Creating file case.st_archive\n",
      "Creating user_nl_xxx files for components and cpl\n",
      "If an old case build already exists, might want to run 'case.build --clean' before building\n",
      "You can now run './preview_run' to get more info on how your case will be run\n"
     ]
    },
    {
     "name": "stderr",
     "output_type": "stream",
     "text": [
      "/data/dnb02/galaxy_db/job_working_directory/009/075/9075208/working/jupyter/ctsm_cases/fates_alp1/env_mach_specific.xml already exists, delete to replace\n"
     ]
    }
   ],
   "source": [
    "%%bash\n",
    "cd ctsm_cases/fates_alp1\n",
    "source activate cesm\n",
    "./case.setup "
   ]
  },
  {
   "cell_type": "code",
   "execution_count": 10,
   "metadata": {},
   "outputs": [
    {
     "name": "stdout",
     "output_type": "stream",
     "text": [
      "Building case in directory /data/dnb02/galaxy_db/job_working_directory/009/075/9075208/working/jupyter/ctsm_cases/fates_alp1\n",
      "sharedlib_only is False\n",
      "model_only is False\n",
      "Setting resource.RLIMIT_STACK to -1 from (8388608, -1)\n",
      "Generating component namelists as part of build\n",
      "Creating component namelists\n",
      "   Calling /data/dnb02/galaxy_db/job_working_directory/009/075/9075208/working/jupyter/ctsm/cime/src/components/data_comps/datm/cime_config/buildnml\n",
      "   Calling /data/dnb02/galaxy_db/job_working_directory/009/075/9075208/working/jupyter/ctsm/cime_config/buildnml\n",
      "   Calling /data/dnb02/galaxy_db/job_working_directory/009/075/9075208/working/jupyter/ctsm/cime/src/components/stub_comps/sice/cime_config/buildnml\n",
      "   Calling /data/dnb02/galaxy_db/job_working_directory/009/075/9075208/working/jupyter/ctsm/cime/src/components/stub_comps/socn/cime_config/buildnml\n",
      "   Calling /data/dnb02/galaxy_db/job_working_directory/009/075/9075208/working/jupyter/ctsm/components/mosart//cime_config/buildnml\n",
      "   Calling /data/dnb02/galaxy_db/job_working_directory/009/075/9075208/working/jupyter/ctsm/cime/src/components/stub_comps/sglc/cime_config/buildnml\n",
      "   Calling /data/dnb02/galaxy_db/job_working_directory/009/075/9075208/working/jupyter/ctsm/cime/src/components/stub_comps/swav/cime_config/buildnml\n",
      "   Calling /data/dnb02/galaxy_db/job_working_directory/009/075/9075208/working/jupyter/ctsm/cime/src/components/stub_comps/sesp/cime_config/buildnml\n",
      "   Calling /data/dnb02/galaxy_db/job_working_directory/009/075/9075208/working/jupyter/ctsm/cime/src/drivers/mct/cime_config/buildnml\n",
      "Finished creating component namelists\n",
      "Building gptl with output to file /home/jovyan/work/fates_alp1/bld/gptl.bldlog.200618-142525\n",
      "   Calling /data/dnb02/galaxy_db/job_working_directory/009/075/9075208/working/jupyter/ctsm/cime/src/build_scripts/buildlib.gptl\n",
      "Component gptl build complete with 2 warnings\n",
      "Building mct with output to file /home/jovyan/work/fates_alp1/bld/mct.bldlog.200618-142525\n",
      "   Calling /data/dnb02/galaxy_db/job_working_directory/009/075/9075208/working/jupyter/ctsm/cime/src/build_scripts/buildlib.mct\n",
      "Building pio with output to file /home/jovyan/work/fates_alp1/bld/pio.bldlog.200618-142525\n",
      "   Calling /data/dnb02/galaxy_db/job_working_directory/009/075/9075208/working/jupyter/ctsm/cime/src/build_scripts/buildlib.pio\n",
      "Building csm_share with output to file /home/jovyan/work/fates_alp1/bld/csm_share.bldlog.200618-142525\n",
      "   Calling /data/dnb02/galaxy_db/job_working_directory/009/075/9075208/working/jupyter/ctsm/cime/src/build_scripts/buildlib.csm_share\n",
      "Component csm_share build complete with 2 warnings\n",
      "         - Building clm4_5/clm5_0 Library \n",
      "Building lnd with output to /home/jovyan/work/fates_alp1/bld/lnd.bldlog.200618-142525\n",
      "Component lnd build complete with 1 warnings\n",
      "clm built in 127.834721 seconds\n",
      "Building atm with output to /home/jovyan/work/fates_alp1/bld/atm.bldlog.200618-142525\n",
      "Building ice with output to /home/jovyan/work/fates_alp1/bld/ice.bldlog.200618-142525\n",
      "Building ocn with output to /home/jovyan/work/fates_alp1/bld/ocn.bldlog.200618-142525\n",
      "Building rof with output to /home/jovyan/work/fates_alp1/bld/rof.bldlog.200618-142525\n",
      "Building glc with output to /home/jovyan/work/fates_alp1/bld/glc.bldlog.200618-142525\n",
      "Building wav with output to /home/jovyan/work/fates_alp1/bld/wav.bldlog.200618-142525\n",
      "Building esp with output to /home/jovyan/work/fates_alp1/bld/esp.bldlog.200618-142525\n",
      "sglc built in 5.666030 seconds\n",
      "sice built in 5.947016 seconds\n",
      "swav built in 6.002567 seconds\n",
      "socn built in 6.085917 seconds\n",
      "sesp built in 6.471537 seconds\n",
      "datm built in 9.302810 seconds\n",
      "Component rof build complete with 1 warnings\n",
      "mosart built in 23.073363 seconds\n",
      "Building cesm with output to /home/jovyan/work/fates_alp1/bld/cesm.bldlog.200618-142525 \n",
      "Component cesm exe build complete with 3 warnings\n",
      "Time spent not building: 3.139372 sec\n",
      "Time spent building: 318.461383 sec\n",
      "MODEL BUILD HAS FINISHED SUCCESSFULLY\n"
     ]
    }
   ],
   "source": [
    "%%bash\n",
    "cd ctsm_cases/fates_alp1\n",
    "source activate cesm\n",
    "./case.build "
   ]
  },
  {
   "cell_type": "code",
   "execution_count": 11,
   "metadata": {},
   "outputs": [
    {
     "name": "stdout",
     "output_type": "stream",
     "text": [
      "Setting resource.RLIMIT_STACK to -1 from (8388608, -1)\n",
      "Loading input file list: 'Buildconf/clm.input_data_list'\n",
      "Loading input file list: 'Buildconf/cpl.input_data_list'\n",
      "Loading input file list: 'Buildconf/mosart.input_data_list'\n",
      "Loading input file list: 'Buildconf/datm.input_data_list'\n"
     ]
    },
    {
     "name": "stderr",
     "output_type": "stream",
     "text": [
      "Model clm no file specified for finidat\n"
     ]
    }
   ],
   "source": [
    "%%bash\n",
    "cd ctsm_cases/fates_alp1\n",
    "source activate cesm\n",
    "./check_input_data"
   ]
  },
  {
   "cell_type": "code",
   "execution_count": null,
   "metadata": {},
   "outputs": [],
   "source": [
    "%%bash\n",
    "cd ctsm_cases/fates_alp1\n",
    "source activate cesm\n",
    "./xmlchange DOUT_S=FALSE\n",
    "./case.submit > case_submit.out 2>&1"
   ]
  },
  {
   "cell_type": "code",
   "execution_count": null,
   "metadata": {},
   "outputs": [],
   "source": [
    "%%bash\n",
    "cd ctsm_cases/fates_alp1\n",
    "source activate cesm\n",
    "./xmlchange --file env_run.xml --id RUN_STARTDATE --val 0001-01-01      # set up the starting date of your simulation \n",
    "./xmlchange --file env_run.xml --id STOP_OPTION --val nyears            # set the simulation periods to \"years\"\n",
    "./xmlchange --file env_run.xml --id STOP_N --val 5                      # set the length of simulation, i.e, how many years\n",
    "./xmlchange --file env_run.xml --id CONTINUE_RUN --val TRUE             # if you want to continue your simulation from restart file, set it to TRUE\n",
    "./xmlchange --file env_run.xml --id RESUBMIT --val 10                   # set up how many times you want to resubmit your simulation.\n",
    "                                                                        # e.g, STOP_N=5, RESUBMIT=10, you will have simulation for 5+5*10=55 \n",
    "./xmlchange --file env_run.xml --id DATM_CLMNCEP_YR_START --val 1901    # set up the start year of the atmospheric forcing \n",
    "./xmlchange --file env_run.xml --id DATM_CLMNCEP_YR_END --val 1950      # set up the end year of the atmospheric forcing\n",
    "./xmlchange --file env_workflow.xml --id JOB_WALLCLOCK_TIME --val 01:00:00   # set up longer time for runing the simulation \n",
    "./xmlchange DOUT_S=TRUE\n",
    "./case.submit > case_submit_sontinue_run.out 2>&1"
   ]
  },
  {
   "cell_type": "markdown",
   "metadata": {},
   "source": [
    "# Save the results using ftp Galaxy \n",
    "- replace by your Galaxy username and password for XXXX"
   ]
  },
  {
   "cell_type": "code",
   "execution_count": null,
   "metadata": {},
   "outputs": [],
   "source": [
    "%%bash\n",
    "cd /home/jovyan/\n",
    "tar cvf archive_emerald_fates_test.tar archive"
   ]
  },
  {
   "cell_type": "code",
   "execution_count": 17,
   "metadata": {},
   "outputs": [
    {
     "name": "stderr",
     "output_type": "stream",
     "text": [
      "  % Total    % Received % Xferd  Average Speed   Time    Time     Time  Current\n",
      "                                 Dload  Upload   Total   Spent    Left  Speed\n",
      "100  118M    0     0  100  118M      0  61.7M  0:00:01  0:00:01 --:--:-- 61.7M\n"
     ]
    }
   ],
   "source": [
    "%%bash\n",
    "cd /home/jovyan/\n",
    "\n",
    "curl -T {\"archive_emerald_fates_test.tar\"} ftp://ftp.usegalaxy.eu --user annefou@geo.uio.no:XXXXX --ssl"
   ]
  }
 ],
 "metadata": {
  "kernelspec": {
   "display_name": "Python 3",
   "language": "python",
   "name": "python3"
  },
  "language_info": {
   "codemirror_mode": {
    "name": "ipython",
    "version": 3
   },
   "file_extension": ".py",
   "mimetype": "text/x-python",
   "name": "python",
   "nbconvert_exporter": "python",
   "pygments_lexer": "ipython3",
   "version": "3.7.6"
  }
 },
 "nbformat": 4,
 "nbformat_minor": 4
}
