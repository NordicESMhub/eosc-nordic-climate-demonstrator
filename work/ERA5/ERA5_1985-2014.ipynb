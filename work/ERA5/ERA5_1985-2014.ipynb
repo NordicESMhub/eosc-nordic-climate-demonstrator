{
 "cells": [
  {
   "cell_type": "markdown",
   "metadata": {},
   "source": [
    "# Example with ERA5 high-resolution (~0.25deg) monthly means\n",
    "\n",
    "\n",
    "# Table of Contents\n",
    "<ul>\n",
    "<li><a href=\"#introduction\">1. Introduction</a></li>\n",
    "<li><a href=\"#data_wrangling\">2. Data Wrangling</a></li>\n",
    "<li><a href=\"#exploratory\">3. Exploratory Data Analysis</a></li>\n",
    "<li><a href=\"#conclusion\">4. Conclusion</a></li>\n",
    "<li><a href=\"#references\">5. References</a></li>\n",
    "</ul>"
   ]
  },
  {
   "cell_type": "markdown",
   "metadata": {},
   "source": [
    "# 1. Introduction <a id='introduction'></a>\n",
    "Cloud feedbacks are a major contributor to the spread of climate sensitivity in global climate models (GCMs) [Zelinka et al. (2020)](https://doi-org.ezproxy.uio.no/10.1029/2019GL085782). Among the most poorly understood cloud feedbacks is the one associated with the cloud phase, which is expected to be modified with climate change [Bjordal et al. (2020)](https://doi-org.ezproxy.uio.no/10.1038/s41561-020-00649-1). Cloud phase bias, in addition, has significant implications for the simulation of radiative properties and glacier and ice sheet mass balances in climate models. \n",
    "\n",
    "In this context, this work aims to expand our knowledge on how the representation of the cloud phase affects snow formation in GCMs. Better understanding this aspect is necessary to develop climate models further and improve future climate predictions. \n",
    "\n",
    "* Load ERA5 data through \n",
    "* Regridd the ERA5 variables to the exact horizontal resolution with [`xesmf`](https://xesmf.readthedocs.io/en/latest/)\n",
    "* Calculate and plot the seasonal mean of the variable"
   ]
  },
  {
   "cell_type": "markdown",
   "metadata": {},
   "source": [
    "# 2. Data Wrangling <a id='data_wrangling'></a>\n",
    "\n",
    "This study will compare surface snowfall, ice, and liquid water content from the Coupled Model Intercomparison Project Phase 6 ([CMIP6](https://esgf-node.llnl.gov/projects/cmip6/)) climate models (accessed through [Pangeo](https://pangeo.io/)) to the European Centre for Medium-Range Weather Forecast Re-Analysis 5 ([ERA5](https://www.ecmwf.int/en/forecasts/datasets/reanalysis-datasets/era5)) data from **1985 to 2014**. We conduct statistical analysis at the annual and seasonal timescales to determine the biases in cloud phase and precipitation (liquid and solid) in the CMIP6 models and their potential connection between them. The CMIP6 data analysis can be found in the [Jupyter Notebook for CMIP6](../cmip/CMIP6_hr_1985-2014.ipynb).\n",
    "\n",
    "- Time period: 1985 to 2014\n",
    "- horizonal resolution: ~0.25deg\n",
    "- time resolution: monthly atmospheric data \n",
    "- Variables:\n",
    "  \n",
    "| shortname     |             Long name                   |      Units    |  levels |\n",
    "| ------------- |:---------------------------------------:| -------------:|--------:|\n",
    "| sf            |    snowfall                             |[m of water eq]| surface |\n",
    "| msr           |    mean_snowfall_rate                   |[kg m-2 s-1]   | surface |\n",
    "| cswc          |    specific_snow_water_content          | [kg kg-1]     |    pl   |\n",
    "| clwc          |    specific_cloud_liquid_water_content  |   [kg kg-1]   |    pl   |\n",
    "| clic          |    specific_cloud_ice_water_content     | [kg kg-1]     |    pl   |\n",
    "| t             |    temperature                          |  [K]          |    pl   |\n",
    "| 2t            |    2 metre temperature                  |  [K]          | surface |\n",
    "| tclw          |   Total column cloud liquid water       |  [kg m-2]     | single  |\n",
    "| tciw          |   Total column cloud ice water          |  [kg m-2]     | single  |\n",
    "| tp            |   Total precipitation                   |  [m]          | surface |\n"
   ]
  },
  {
   "cell_type": "markdown",
   "metadata": {},
   "source": [
    "## Import python packages\n",
    "- `Python` environment requirements: file [globalsnow.yml](../globalsnow.yml) \n",
    "- load `python` packages from [imports.py](../utils/imports.py)\n",
    "- load `functions` from [functions.py](../utils/functions.py)"
   ]
  },
  {
   "cell_type": "code",
   "execution_count": 18,
   "metadata": {},
   "outputs": [
    {
     "data": {
      "text/plain": [
       "<xarray.core.options.set_options at 0x7f060b6a1100>"
      ]
     },
     "execution_count": 18,
     "metadata": {},
     "output_type": "execute_result"
    }
   ],
   "source": [
    "# supress warnings\n",
    "import warnings\n",
    "warnings.filterwarnings('ignore') # don't output warnings\n",
    "\n",
    "# import packages\n",
    "import sys\n",
    "sys.path.append('/uio/kant/geo-metos-u1/franzihe/Documents/Python/globalsnow/eosc-nordic-climate-demonstrator/work/utils')\n",
    "\n",
    "from imports import(xr, intake, ccrs, cy, plt, glob, cm, fct)\n",
    "xr.set_options(display_style='html')"
   ]
  },
  {
   "cell_type": "code",
   "execution_count": 19,
   "metadata": {},
   "outputs": [
    {
     "name": "stdout",
     "output_type": "stream",
     "text": [
      "The autoreload extension is already loaded. To reload it, use:\n",
      "  %reload_ext autoreload\n"
     ]
    }
   ],
   "source": [
    "# reload imports\n",
    "%load_ext autoreload\n",
    "%autoreload 2"
   ]
  },
  {
   "cell_type": "markdown",
   "metadata": {},
   "source": [
    "## Open ERA5 variables\n",
    "Get the data requried for the analysis. Beforehand we downloaded the monthly averaged data on single levels and pressure levels via the Climate Data Store (CDS) infrastructure. The github repository [Download ERA5](https://github.com/franzihe/download_ERA5) gives examples on how to download the data from the CDS. For the comparison between CMIP6 models and ERA5 values we used the Jupyter Notebooks [download_Amon_single_level](https://github.com/franzihe/download_ERA5/blob/main/download_Amon_single_level.ipynb) and [download_Amon_pressure_level](https://github.com/franzihe/download_ERA5/blob/main/download_Amon_pressure_level.ipynb). Both, download the monthly means for the variables mentioned above between 1985 and 2014.\n",
    "\n",
    "> **_NOTE:_** To download from CDS a user has to have a CDS user account, if one does not have one, please create the account [here](https://cds.climate.copernicus.eu/user/register).\n",
    "\n",
    "\n",
    "The ERA5 0.25deg data is located in the folder `input/ERA5/monthly_means/0.25deg`.\n",
    "\n"
   ]
  },
  {
   "cell_type": "code",
   "execution_count": 20,
   "metadata": {},
   "outputs": [],
   "source": [
    "input_data = '/scratch/franzihe/input'\n",
    "output_data = '/scratch/franzihe/output'\n",
    "era_in = '{}/ERA5/monthly_means/0.25deg'.format(input_data)\n",
    "era_out = '{}/ERA5/monthly_means/1deg'.format(output_data)"
   ]
  },
  {
   "cell_type": "code",
   "execution_count": 21,
   "metadata": {},
   "outputs": [],
   "source": [
    "variable_id=[\n",
    "            '2t',\n",
    "            'clic',\n",
    "            'clwc',\n",
    "            'cswc',\n",
    "            'msr',\n",
    "            'sf',\n",
    "            't', \n",
    "            'tciw',\n",
    "            'tclw',\n",
    "            'tp'\n",
    "             ]"
   ]
  },
  {
   "cell_type": "markdown",
   "metadata": {},
   "source": [
    "## Find liquid only, ice only, and mixed-phase clouds"
   ]
  },
  {
   "cell_type": "code",
   "execution_count": 48,
   "metadata": {},
   "outputs": [],
   "source": [
    " # Input data from ERA5 with a resolution of 0.25x0.25deg to be regridded\n",
    "era_file_in = glob('{}/*_Amon_ERA5_*12.nc'.format(era_in, ))        \n",
    "ds_era = xr.open_mfdataset(era_file_in)\n",
    "ds_era = ds_era.sel(time = ds_era.time.dt.year.isin(year_range)).squeeze()\n"
   ]
  },
  {
   "cell_type": "code",
   "execution_count": 50,
   "metadata": {},
   "outputs": [
    {
     "data": {
      "text/plain": [
       "{'units': 'm', 'long_name': 'Total precipitation'}"
      ]
     },
     "execution_count": 50,
     "metadata": {},
     "output_type": "execute_result"
    }
   ],
   "source": [
    "ds_era['tp'].attrs"
   ]
  },
  {
   "cell_type": "code",
   "execution_count": 51,
   "metadata": {},
   "outputs": [],
   "source": [
    "# The hydrological parameters have effective units of \"m of water per day\" and so they should be multiplied by 1000 to convert to kgm-2day-1 or mmday-1.\n",
    "ds_all['tp'] = ds_all['tp']*1000\n",
    "ds_all['tp'].attrs = {'units': 'mm day-1', 'long_name': 'Total precipitation'}"
   ]
  },
  {
   "cell_type": "code",
   "execution_count": 52,
   "metadata": {},
   "outputs": [],
   "source": [
    "filter = ds_era['tp']>= 0.01  # pidx"
   ]
  },
  {
   "cell_type": "code",
   "execution_count": 76,
   "metadata": {},
   "outputs": [],
   "source": [
    "ds_era = ds_era.where(filter)"
   ]
  },
  {
   "cell_type": "code",
   "execution_count": null,
   "metadata": {},
   "outputs": [],
   "source": [
    "for lat in ds_era.latitude.values:\n",
    "    for lon in ds_era.longitude.values:\n",
    "        # ds_era['clic'].sel\n",
    "        "
   ]
  },
  {
   "cell_type": "code",
   "execution_count": null,
   "metadata": {},
   "outputs": [],
   "source": [
    "lat = "
   ]
  },
  {
   "cell_type": "code",
   "execution_count": null,
   "metadata": {},
   "outputs": [],
   "source": [
    "ds_era['clic'].sum(keep_attrs=True)"
   ]
  },
  {
   "cell_type": "code",
   "execution_count": null,
   "metadata": {},
   "outputs": [],
   "source": [
    "# loop through each latitude\n",
    "\n",
    "# loop through each longitude\n",
    "\n",
    "# find time, where precipitation is >= 0.01 mm\n",
    "ds_era\n",
    "\n",
    "# find precipitation from liquid only clouds \n",
    "    # LWC amount of liquid-only clouds\n",
    "    # number of liquid-only events\n",
    "    \n",
    "# remove water only from data\n",
    "\n",
    "# find precipitation from ice only clouds\n",
    "    # IWC amount of ice-only clouds\n",
    "    # number of ice-only events\n",
    "    \n",
    "# determine homogeneous or heteorogeneous freezing for ice-only clouds\n",
    "    # get temperature where only IWC exists"
   ]
  },
  {
   "cell_type": "markdown",
   "metadata": {},
   "source": [
    "## Regrid ERA5 data to common NorESM2-MM grid <a id='regrid_hz'></a>\n",
    "\n",
    "We want to conduct statistical analysis at the annual and seasonal timescales to determine the biases in cloud phase and precipitation (liquid and solid) for the CMIP6 models in comparison to ERA5. \n",
    "\n",
    "The ERA5 high resolution has approximately a nominal resolution of 0.25deg. The ERA5 data has a nominal resolution of 0.25$^{o}$ and has to be regridded to the same horizontal resolution as the NorESM2-MM. Hence we will make use of the python package `xesmf` and [decreasing resolution](https://xesmf.readthedocs.io/en/latest/notebooks/Compare_algorithms.html#Decreasing-resolution), [Limitations and warnings](https://xesmf.readthedocs.io/en/latest/notebooks/Masking.html?highlight=conservative#Limitations-and-warnings).  \n",
    "\n",
    "$\\rightarrow$ Define NorESM2-MM as the reference grid `ds_out`.\n",
    "\n",
    "Save each regridded model to a `netcdf` datasets between 1985 an 2014, locally. "
   ]
  },
  {
   "cell_type": "code",
   "execution_count": 27,
   "metadata": {},
   "outputs": [
    {
     "name": "stdout",
     "output_type": "stream",
     "text": [
      "t2m True\n",
      "/scratch/franzihe/output/ERA5/monthly_means/1deg/Amon/2t_Amon_1deg_198501_201412.nc is downloaded\n",
      "Have regridded in total: 1 files\n",
      "ciwc True\n",
      "/scratch/franzihe/output/ERA5/monthly_means/1deg/Amon/clic_Amon_1deg_198501_201412.nc is downloaded\n",
      "Have regridded in total: 2 files\n",
      "clwc True\n",
      "/scratch/franzihe/output/ERA5/monthly_means/1deg/Amon/clwc_Amon_1deg_198501_201412.nc is downloaded\n",
      "Have regridded in total: 3 files\n",
      "cswc True\n",
      "/scratch/franzihe/output/ERA5/monthly_means/1deg/Amon/cswc_Amon_1deg_198501_201412.nc is downloaded\n",
      "Have regridded in total: 4 files\n",
      "msr True\n",
      "/scratch/franzihe/output/ERA5/monthly_means/1deg/Amon/msr_Amon_1deg_198501_201412.nc is downloaded\n",
      "Have regridded in total: 5 files\n",
      "sf True\n",
      "/scratch/franzihe/output/ERA5/monthly_means/1deg/Amon/sf_Amon_1deg_198501_201412.nc is downloaded\n",
      "Have regridded in total: 6 files\n",
      "t True\n",
      "/scratch/franzihe/output/ERA5/monthly_means/1deg/Amon/t_Amon_1deg_198501_201412.nc is downloaded\n",
      "Have regridded in total: 7 files\n",
      "tciw True\n",
      "/scratch/franzihe/output/ERA5/monthly_means/1deg/Amon/tciw_Amon_1deg_198501_201412.nc is downloaded\n",
      "Have regridded in total: 8 files\n",
      "tclw True\n",
      "/scratch/franzihe/output/ERA5/monthly_means/1deg/Amon/tclw_Amon_1deg_198501_201412.nc is downloaded\n",
      "Have regridded in total: 9 files\n",
      "tp True\n",
      "/scratch/franzihe/output/ERA5/monthly_means/1deg/Amon/tp_Amon_1deg_198501_201412.nc is downloaded\n",
      "Have regridded in total: 10 files\n"
     ]
    }
   ],
   "source": [
    "starty = 1985; endy = 2014\n",
    "year_range = range(starty, endy+1)\n",
    "\n",
    "# Read in the output grid from NorESM\n",
    "cmip_file = '/scratch/franzihe/input/cmip6_hist/1deg/grid_NorESM2-MM.nc'\n",
    "ds_out = xr.open_dataset(cmip_file)\n",
    "\n",
    "counter = 0\n",
    "for var_id in variable_id:\n",
    "    # select where data should be saved\n",
    "    filename = '{}_Amon_1deg_{}01_{}12.nc'.format(var_id, starty, endy)\n",
    "    era_file_out = era_out + '/Amon/' + filename\n",
    "    files = glob(era_file_out)\n",
    "            \n",
    "    \n",
    "    \n",
    "    # Input data from ERA5 with a resolution of 0.25x0.25deg to be regridded\n",
    "    era_file_in = glob('{}/{}_Amon_ERA5_*12.nc'.format(era_in, var_id,))        \n",
    "    ds_in = xr.open_mfdataset(era_file_in)\n",
    "    ds_in = ds_in.sel(time = ds_in.time.dt.year.isin(year_range)).squeeze()\n",
    "            \n",
    "    # Regrid data\n",
    "    ds_in_regrid = fct.regrid_data(ds_in, ds_out)\n",
    "                \n",
    "    # Shift the longitude from 0-->360 to -180-->180 and sort by longitude and time\n",
    "    ds_in_regrid = ds_in_regrid.assign_coords(lon=(((ds_in_regrid.lon + 180) % 360) - 180)).sortby('lon').sortby('time')\n",
    "    \n",
    "    if var_id == '2t':\n",
    "        ds_in_regrid = ds_in_regrid.rename_vars({'t2m':var_id}, )\n",
    "    if var_id == 'clic':\n",
    "        ds_in_regrid = ds_in_regrid.rename_vars({'ciwc':var_id})\n",
    "                \n",
    "    if era_file_out in files:\n",
    "        print('{} is downloaded'.format(era_file_out))\n",
    "        counter += 1\n",
    "        print('Have regridded in total: {:} files'.format(str(counter))) \n",
    "    else:           \n",
    "        # Save to netcdf file\n",
    "        ds_in_regrid.to_netcdf(era_file_out)\n",
    "        ds_in.close(); ds_out.close()\n",
    "        print('file written: {}'.format(era_file_out))\n",
    "        \n",
    "    # merge all variables\n",
    "    ds_all = xr.merge([ds_all, ds_in_regrid[var_id]])"
   ]
  },
  {
   "cell_type": "markdown",
   "metadata": {},
   "source": [
    "## Assign attributes matching the CMIP6 data"
   ]
  },
  {
   "cell_type": "code",
   "execution_count": 33,
   "metadata": {},
   "outputs": [],
   "source": [
    "for var_id in variable_id:\n",
    "    if var_id == 'sf':\n",
    "        ds_all[var_id] = ds_all[var_id]*1000\n",
    "        ds_all[var_id].attrs = {'units': 'mm day-1', 'long_name': 'Snowfall',}\n",
    "        \n",
    "    if var_id == 'tciw':\n",
    "        ds_all[var_id] = ds_all[var_id]*1000\n",
    "        ds_all[var_id].attrs = {'units': 'g m-2', 'long_name': 'Total column cloud ice water'}\n",
    "        \n",
    "    if var_id == 'tclw':\n",
    "        ds_all[var_id] = ds_all[var_id]*1000\n",
    "        ds_all[var_id].attrs = {'units': 'g m-2', 'long_name': 'Total column cloud liquid water'}\n",
    "        \n",
    "    if var_id == 'tp':\n",
    "        # The hydrological parameters have effective units of \"m of water per day\" and so they should be multiplied by 1000 to convert to kgm-2day-1 or mmday-1.\n",
    "        ds_all[var_id] = ds_all[var_id]*1000\n",
    "        ds_all[var_id].attrs = {'units': 'mm day-1', 'long_name': 'Total precipitation'}\n",
    "    # if var_id == 'clwc':"
   ]
  },
  {
   "cell_type": "markdown",
   "metadata": {},
   "source": []
  },
  {
   "cell_type": "code",
   "execution_count": null,
   "metadata": {},
   "outputs": [],
   "source": []
  },
  {
   "cell_type": "markdown",
   "metadata": {},
   "source": [
    "# Create seasonal mean/spread of all regridded ERA5\n",
    "\n",
    "...and plot seasonal mean of each individual model"
   ]
  },
  {
   "cell_type": "code",
   "execution_count": null,
   "metadata": {},
   "outputs": [],
   "source": [
    "for var_id in variable_id:\n",
    "    ds_all[var_id+'_season_mean'] = ds_all[var_id].groupby('time.season').mean('time', keep_attrs = True)\n",
    "\n",
    "    ds_all[var_id+'_season_std'] = ds_all[var_id].groupby('time.season').std('time', keep_attrs = True)"
   ]
  },
  {
   "cell_type": "code",
   "execution_count": null,
   "metadata": {},
   "outputs": [],
   "source": [
    "for var_id in variable_id:\n",
    "    if var_id == 'sf':\n",
    "        label='Snowfall (mm$\\,$day$^{-1}$)'\n",
    "        vmin = 0\n",
    "        vmax = 2.5\n",
    "        levels = 25\n",
    "        add_colorbar=False\n",
    "        vmin_std = vmin\n",
    "        vmax_std= 0.6\n",
    "    if var_id == 'tp':  \n",
    "        label='Total precipitation (mm$\\,$day$^{-1}$)' \n",
    "        vmin = 0\n",
    "        vmax=9\n",
    "        levels = 90\n",
    "        add_colorbar=False\n",
    "        vmin_std =vmin\n",
    "        vmax_std = 2.4  \n",
    "    if var_id == 'tciw':\n",
    "        label='Ice Water Path (g$\\,$m$^{-2}$)'\n",
    "        vmin = 0\n",
    "        vmax=100\n",
    "        levels = 25\n",
    "        add_colorbar = False\n",
    "        vmin_std =vmin\n",
    "        vmax_std = 20\n",
    "    if var_id == 'tclw':\n",
    "        label='Liquid Water Path (g$\\,$m$^{-2}$)'\n",
    "        vmin = 0\n",
    "        vmax=100\n",
    "        levels = 25\n",
    "        add_colorbar = False\n",
    "        vmin_std =vmin\n",
    "        vmax_std = 20\n",
    "    if var_id == '2t':\n",
    "        label='2-m temperature (K)'\n",
    "        vmin = 246\n",
    "        vmax=300\n",
    "        levels = 40\n",
    "        add_colorbar = False\n",
    "        vmin_std = 0\n",
    "        vmax_std=6\n",
    "\n",
    "    # Plot seasonal mean\n",
    "    fig, axs, im = fct.plt_spatial_seasonal_mean(ds_all[var_id+'_season_mean'], vmin, vmax, levels, add_colorbar=False, title='ERA5 - high resolution (1985 - 2014)')\n",
    "\n",
    "    fig.subplots_adjust(right=0.8)\n",
    "    cbar_ax = fig.add_axes([1, 0.15, 0.025, 0.7])\n",
    "    cb = fig.colorbar(im, cax=cbar_ax, orientation=\"vertical\", fraction=0.046, pad=0.04)\n",
    "    cb.set_label(label='MEAN - {}'.format(label), weight='bold')\n",
    "\n",
    "    plt.tight_layout()\n",
    "\n",
    "    # save figure to png\n",
    "    figdir = '/uio/kant/geo-metos-u1/franzihe/Documents/Figures/ERA5/'\n",
    "    figname = '{}_season_1deg_{}_{}.png'.format(var_id, starty, endy)\n",
    "    plt.savefig(figdir + figname, format = 'png', bbox_inches = 'tight', transparent = False)\n",
    "\n",
    "    # Plot seasonal mean and std\n",
    "    fig, axs, im = fct.plt_spatial_seasonal_mean(ds_all[var_id+'_season_mean'], vmin, vmax, levels, add_colorbar=False, title='ERA5 - high resolution (1985 - 2014)')\n",
    "\n",
    "    fig.subplots_adjust(right=0.8)\n",
    "    cbar_ax = fig.add_axes([1, 0.15, 0.025, 0.7])\n",
    "    cb = fig.colorbar(im, cax=cbar_ax, orientation=\"vertical\", fraction=0.046, pad=0.04)\n",
    "    cb.set_label(label='MEAN - {}'.format(label), weight='bold')\n",
    "\n",
    "    for ax, i in zip(axs, ds_all[var_id+'_season_std'].season):\n",
    "        sm = ds_all[var_id+'_season_std'].sel(season=i).plot.contour(ax=ax, transform=ccrs.PlateCarree(), \n",
    "                                                                        robust=True,\n",
    "                                                                        vmin = vmin_std, vmax = vmax_std,\n",
    "                                                                        levels = 6,\n",
    "                                                                        cmap=cm.lajolla,\n",
    "                                                                        add_colorbar=False)\n",
    "        \n",
    "    cbar_ax = fig.add_axes([1.10, 0.15, 0.025, 0.7])\n",
    "    sb = fig.colorbar(sm, cax=cbar_ax, orientation=\"vertical\", fraction=0.046, pad=0.04)\n",
    "    sb.set_label(label='STD - {}'.format(label), weight='bold')\n",
    "\n",
    "\n",
    "    plt.tight_layout()\n"
   ]
  },
  {
   "cell_type": "code",
   "execution_count": null,
   "metadata": {},
   "outputs": [],
   "source": [
    "# save to netcdf\n",
    "filename = 'all_1deg_{}01_{}12.nc'.format(starty, endy)\n",
    "nc_out = era_out + '/' + filename\n",
    "files = glob(nc_out)\n",
    "\n",
    "\n",
    "counter = 0 \n",
    "# Save to netcdf file\n",
    "if nc_out in files:\n",
    "    print('{} is downloaded'.format(nc_out))\n",
    "    counter += 1\n",
    "    print('Have saved in total: {:} files'.format(str(counter)))\n",
    "else:\n",
    "    ds_all.to_netcdf(nc_out)\n",
    "    print('file written: .{}'.format(nc_out))\n"
   ]
  },
  {
   "cell_type": "markdown",
   "metadata": {},
   "source": [
    "Find liquid, ice only, mixed phase cloud. Plot histogram of observed snowfall amounts."
   ]
  },
  {
   "cell_type": "code",
   "execution_count": null,
   "metadata": {},
   "outputs": [],
   "source": []
  }
 ],
 "metadata": {
  "interpreter": {
   "hash": "7f24944080b15318569c1ef785be98f8dd5a0531d3a23558ab9e7edab213d92e"
  },
  "kernelspec": {
   "display_name": "Python 3.9.7 64-bit ('globalsnow': conda)",
   "name": "python3"
  },
  "language_info": {
   "codemirror_mode": {
    "name": "ipython",
    "version": 3
   },
   "file_extension": ".py",
   "mimetype": "text/x-python",
   "name": "python",
   "nbconvert_exporter": "python",
   "pygments_lexer": "ipython3",
   "version": "3.8.12"
  },
  "orig_nbformat": 4
 },
 "nbformat": 4,
 "nbformat_minor": 2
}
